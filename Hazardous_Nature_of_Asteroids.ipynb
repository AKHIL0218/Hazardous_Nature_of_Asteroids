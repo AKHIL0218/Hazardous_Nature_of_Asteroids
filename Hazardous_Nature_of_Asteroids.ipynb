{
  "cells": [
    {
      "cell_type": "markdown",
      "id": "6e079c65",
      "metadata": {
        "execution": {
          "iopub.execute_input": "2021-10-22T17:19:14.276406Z",
          "iopub.status.busy": "2021-10-22T17:19:14.276137Z",
          "iopub.status.idle": "2021-10-22T17:19:14.280358Z",
          "shell.execute_reply": "2021-10-22T17:19:14.279657Z",
          "shell.execute_reply.started": "2021-10-22T17:19:14.276377Z"
        },
        "papermill": {
          "duration": 0.061786,
          "end_time": "2021-10-22T19:45:52.870957",
          "exception": false,
          "start_time": "2021-10-22T19:45:52.809171",
          "status": "completed"
        },
        "tags": [],
        "id": "6e079c65"
      },
      "source": [
        "# Hazardous Nature of Asteroids"
      ]
    },
    {
      "cell_type": "markdown",
      "id": "ea1a5210",
      "metadata": {
        "papermill": {
          "duration": 0.061957,
          "end_time": "2021-10-22T19:45:52.996332",
          "exception": false,
          "start_time": "2021-10-22T19:45:52.934375",
          "status": "completed"
        },
        "tags": [],
        "id": "ea1a5210"
      },
      "source": [
        "The majority of near-Earth objects have orbits that don’t bring them very close to Earth, and therefore pose no risk of impact, but a small fraction of them – called potentially hazardous asteroids – require more attention. These objects are defined as asteroids that are more than about 460 feet (140 meters) in size with orbits that bring them as close as within 4.6 million miles and can have potenial threat.\n",
        "\n",
        "\n",
        "---\n",
        "\n",
        "So in this notebook would deal with ML Techniques to predict the Hazardous Nature of Asteroids"
      ]
    },
    {
      "cell_type": "markdown",
      "source": [
        "#Importing Libraries"
      ],
      "metadata": {
        "id": "lhFZPtvR_Giq"
      },
      "id": "lhFZPtvR_Giq"
    },
    {
      "cell_type": "code",
      "execution_count": null,
      "id": "9938a857",
      "metadata": {
        "execution": {
          "iopub.execute_input": "2021-10-22T19:45:53.184997Z",
          "iopub.status.busy": "2021-10-22T19:45:53.184333Z",
          "iopub.status.idle": "2021-10-22T19:45:55.781876Z",
          "shell.execute_reply": "2021-10-22T19:45:55.782381Z",
          "shell.execute_reply.started": "2021-10-22T19:39:29.817115Z"
        },
        "papermill": {
          "duration": 2.667319,
          "end_time": "2021-10-22T19:45:55.782714",
          "exception": false,
          "start_time": "2021-10-22T19:45:53.115395",
          "status": "completed"
        },
        "tags": [],
        "id": "9938a857"
      },
      "outputs": [],
      "source": [
        "import time\n",
        "import numpy as np\n",
        "import pandas as pd\n",
        "import seaborn as sns\n",
        "import matplotlib.pyplot as plt\n",
        "import plotly.express as px\n",
        "import warnings\n",
        "warnings.filterwarnings(\"ignore\")\n",
        "\n",
        "\n",
        "from sklearn.naive_bayes import GaussianNB\n",
        "from sklearn.linear_model import LogisticRegression\n",
        "from sklearn.tree import DecisionTreeClassifier\n",
        "from sklearn.ensemble import RandomForestClassifier, GradientBoostingClassifier, VotingClassifier\n",
        "from sklearn.preprocessing import StandardScaler\n",
        "from sklearn.decomposition import PCA\n",
        "from sklearn.model_selection import train_test_split, RepeatedStratifiedKFold, cross_val_score\n",
        "from sklearn.metrics import classification_report, accuracy_score\n",
        "from sklearn.metrics import confusion_matrix\n",
        "from sklearn.metrics import plot_confusion_matrix\n",
        "from sklearn.metrics import precision_recall_fscore_support as score\n",
        "from sklearn.metrics import auc\n",
        "\n",
        "\n",
        "import tensorflow as tf\n"
      ]
    },
    {
      "cell_type": "markdown",
      "source": [
        "#Load Dataset\n"
      ],
      "metadata": {
        "id": "E7zeMauS_R4b"
      },
      "id": "E7zeMauS_R4b"
    },
    {
      "cell_type": "code",
      "source": [
        "from google.colab import drive\n",
        "drive.mount('/content/drive')"
      ],
      "metadata": {
        "colab": {
          "base_uri": "https://localhost:8080/"
        },
        "id": "fy1aeu1LAhmv",
        "outputId": "31f69a38-0230-466b-bf44-bbb9514787d7"
      },
      "id": "fy1aeu1LAhmv",
      "execution_count": null,
      "outputs": [
        {
          "output_type": "stream",
          "name": "stdout",
          "text": [
            "Drive already mounted at /content/drive; to attempt to forcibly remount, call drive.mount(\"/content/drive\", force_remount=True).\n"
          ]
        }
      ]
    },
    {
      "cell_type": "code",
      "execution_count": null,
      "id": "68865d1d",
      "metadata": {
        "execution": {
          "iopub.execute_input": "2021-10-22T19:45:55.910643Z",
          "iopub.status.busy": "2021-10-22T19:45:55.910022Z",
          "iopub.status.idle": "2021-10-22T19:45:56.036190Z",
          "shell.execute_reply": "2021-10-22T19:45:56.036692Z",
          "shell.execute_reply.started": "2021-10-22T19:39:29.828188Z"
        },
        "papermill": {
          "duration": 0.192172,
          "end_time": "2021-10-22T19:45:56.036873",
          "exception": false,
          "start_time": "2021-10-22T19:45:55.844701",
          "status": "completed"
        },
        "tags": [],
        "colab": {
          "base_uri": "https://localhost:8080/",
          "height": 409
        },
        "id": "68865d1d",
        "outputId": "89c92aef-dba5-4764-cb21-8f75b8982f5e"
      },
      "outputs": [
        {
          "output_type": "execute_result",
          "data": {
            "text/html": [
              "\n",
              "  <div id=\"df-a9415320-c600-4dc3-955a-1a6d2c9e04d6\">\n",
              "    <div class=\"colab-df-container\">\n",
              "      <div>\n",
              "<style scoped>\n",
              "    .dataframe tbody tr th:only-of-type {\n",
              "        vertical-align: middle;\n",
              "    }\n",
              "\n",
              "    .dataframe tbody tr th {\n",
              "        vertical-align: top;\n",
              "    }\n",
              "\n",
              "    .dataframe thead th {\n",
              "        text-align: right;\n",
              "    }\n",
              "</style>\n",
              "<table border=\"1\" class=\"dataframe\">\n",
              "  <thead>\n",
              "    <tr style=\"text-align: right;\">\n",
              "      <th></th>\n",
              "      <th>Neo Reference ID</th>\n",
              "      <th>Name</th>\n",
              "      <th>Absolute Magnitude</th>\n",
              "      <th>Est Dia in KM(min)</th>\n",
              "      <th>Est Dia in KM(max)</th>\n",
              "      <th>Est Dia in M(min)</th>\n",
              "      <th>Est Dia in M(max)</th>\n",
              "      <th>Est Dia in Miles(min)</th>\n",
              "      <th>Est Dia in Miles(max)</th>\n",
              "      <th>Est Dia in Feet(min)</th>\n",
              "      <th>Est Dia in Feet(max)</th>\n",
              "      <th>Close Approach Date</th>\n",
              "      <th>Epoch Date Close Approach</th>\n",
              "      <th>Relative Velocity km per sec</th>\n",
              "      <th>Relative Velocity km per hr</th>\n",
              "      <th>Miles per hour</th>\n",
              "      <th>Miss Dist.(Astronomical)</th>\n",
              "      <th>Miss Dist.(lunar)</th>\n",
              "      <th>Miss Dist.(kilometers)</th>\n",
              "      <th>Miss Dist.(miles)</th>\n",
              "      <th>Orbiting Body</th>\n",
              "      <th>Orbit ID</th>\n",
              "      <th>Orbit Determination Date</th>\n",
              "      <th>Orbit Uncertainity</th>\n",
              "      <th>Minimum Orbit Intersection</th>\n",
              "      <th>Jupiter Tisserand Invariant</th>\n",
              "      <th>Epoch Osculation</th>\n",
              "      <th>Eccentricity</th>\n",
              "      <th>Semi Major Axis</th>\n",
              "      <th>Inclination</th>\n",
              "      <th>Asc Node Longitude</th>\n",
              "      <th>Orbital Period</th>\n",
              "      <th>Perihelion Distance</th>\n",
              "      <th>Perihelion Arg</th>\n",
              "      <th>Aphelion Dist</th>\n",
              "      <th>Perihelion Time</th>\n",
              "      <th>Mean Anomaly</th>\n",
              "      <th>Mean Motion</th>\n",
              "      <th>Equinox</th>\n",
              "      <th>Hazardous</th>\n",
              "    </tr>\n",
              "  </thead>\n",
              "  <tbody>\n",
              "    <tr>\n",
              "      <th>0</th>\n",
              "      <td>3703080</td>\n",
              "      <td>3703080</td>\n",
              "      <td>21.6</td>\n",
              "      <td>0.127220</td>\n",
              "      <td>0.284472</td>\n",
              "      <td>127.219879</td>\n",
              "      <td>284.472297</td>\n",
              "      <td>0.079051</td>\n",
              "      <td>0.176763</td>\n",
              "      <td>417.388066</td>\n",
              "      <td>933.308089</td>\n",
              "      <td>1995-01-01</td>\n",
              "      <td>788947200000</td>\n",
              "      <td>6.115834</td>\n",
              "      <td>22017.003799</td>\n",
              "      <td>13680.509944</td>\n",
              "      <td>0.419483</td>\n",
              "      <td>163.178711</td>\n",
              "      <td>62753692.0</td>\n",
              "      <td>38993336.0</td>\n",
              "      <td>Earth</td>\n",
              "      <td>17</td>\n",
              "      <td>2017-04-06 08:36:37</td>\n",
              "      <td>5</td>\n",
              "      <td>0.025282</td>\n",
              "      <td>4.634</td>\n",
              "      <td>2458000.5</td>\n",
              "      <td>0.425549</td>\n",
              "      <td>1.407011</td>\n",
              "      <td>6.025981</td>\n",
              "      <td>314.373913</td>\n",
              "      <td>609.599786</td>\n",
              "      <td>0.808259</td>\n",
              "      <td>57.257470</td>\n",
              "      <td>2.005764</td>\n",
              "      <td>2.458162e+06</td>\n",
              "      <td>264.837533</td>\n",
              "      <td>0.590551</td>\n",
              "      <td>J2000</td>\n",
              "      <td>True</td>\n",
              "    </tr>\n",
              "    <tr>\n",
              "      <th>1</th>\n",
              "      <td>3723955</td>\n",
              "      <td>3723955</td>\n",
              "      <td>21.3</td>\n",
              "      <td>0.146068</td>\n",
              "      <td>0.326618</td>\n",
              "      <td>146.067964</td>\n",
              "      <td>326.617897</td>\n",
              "      <td>0.090762</td>\n",
              "      <td>0.202951</td>\n",
              "      <td>479.225620</td>\n",
              "      <td>1071.581063</td>\n",
              "      <td>1995-01-01</td>\n",
              "      <td>788947200000</td>\n",
              "      <td>18.113985</td>\n",
              "      <td>65210.346095</td>\n",
              "      <td>40519.173105</td>\n",
              "      <td>0.383014</td>\n",
              "      <td>148.992630</td>\n",
              "      <td>57298148.0</td>\n",
              "      <td>35603420.0</td>\n",
              "      <td>Earth</td>\n",
              "      <td>21</td>\n",
              "      <td>2017-04-06 08:32:49</td>\n",
              "      <td>3</td>\n",
              "      <td>0.186935</td>\n",
              "      <td>5.457</td>\n",
              "      <td>2458000.5</td>\n",
              "      <td>0.351674</td>\n",
              "      <td>1.107776</td>\n",
              "      <td>28.412996</td>\n",
              "      <td>136.717242</td>\n",
              "      <td>425.869294</td>\n",
              "      <td>0.718200</td>\n",
              "      <td>313.091975</td>\n",
              "      <td>1.497352</td>\n",
              "      <td>2.457795e+06</td>\n",
              "      <td>173.741112</td>\n",
              "      <td>0.845330</td>\n",
              "      <td>J2000</td>\n",
              "      <td>False</td>\n",
              "    </tr>\n",
              "    <tr>\n",
              "      <th>2</th>\n",
              "      <td>2446862</td>\n",
              "      <td>2446862</td>\n",
              "      <td>20.3</td>\n",
              "      <td>0.231502</td>\n",
              "      <td>0.517654</td>\n",
              "      <td>231.502122</td>\n",
              "      <td>517.654482</td>\n",
              "      <td>0.143849</td>\n",
              "      <td>0.321655</td>\n",
              "      <td>759.521423</td>\n",
              "      <td>1698.341531</td>\n",
              "      <td>1995-01-08</td>\n",
              "      <td>789552000000</td>\n",
              "      <td>7.590711</td>\n",
              "      <td>27326.560182</td>\n",
              "      <td>16979.661798</td>\n",
              "      <td>0.050956</td>\n",
              "      <td>19.821890</td>\n",
              "      <td>7622911.5</td>\n",
              "      <td>4736657.5</td>\n",
              "      <td>Earth</td>\n",
              "      <td>22</td>\n",
              "      <td>2017-04-06 09:20:19</td>\n",
              "      <td>0</td>\n",
              "      <td>0.043058</td>\n",
              "      <td>4.557</td>\n",
              "      <td>2458000.5</td>\n",
              "      <td>0.348248</td>\n",
              "      <td>1.458824</td>\n",
              "      <td>4.237961</td>\n",
              "      <td>259.475979</td>\n",
              "      <td>643.580228</td>\n",
              "      <td>0.950791</td>\n",
              "      <td>248.415038</td>\n",
              "      <td>1.966857</td>\n",
              "      <td>2.458120e+06</td>\n",
              "      <td>292.893654</td>\n",
              "      <td>0.559371</td>\n",
              "      <td>J2000</td>\n",
              "      <td>True</td>\n",
              "    </tr>\n",
              "    <tr>\n",
              "      <th>3</th>\n",
              "      <td>3092506</td>\n",
              "      <td>3092506</td>\n",
              "      <td>27.4</td>\n",
              "      <td>0.008801</td>\n",
              "      <td>0.019681</td>\n",
              "      <td>8.801465</td>\n",
              "      <td>19.680675</td>\n",
              "      <td>0.005469</td>\n",
              "      <td>0.012229</td>\n",
              "      <td>28.876199</td>\n",
              "      <td>64.569144</td>\n",
              "      <td>1995-01-15</td>\n",
              "      <td>790156800000</td>\n",
              "      <td>11.173874</td>\n",
              "      <td>40225.948191</td>\n",
              "      <td>24994.839864</td>\n",
              "      <td>0.285322</td>\n",
              "      <td>110.990387</td>\n",
              "      <td>42683616.0</td>\n",
              "      <td>26522368.0</td>\n",
              "      <td>Earth</td>\n",
              "      <td>7</td>\n",
              "      <td>2017-04-06 09:15:49</td>\n",
              "      <td>6</td>\n",
              "      <td>0.005512</td>\n",
              "      <td>5.093</td>\n",
              "      <td>2458000.5</td>\n",
              "      <td>0.216578</td>\n",
              "      <td>1.255903</td>\n",
              "      <td>7.905894</td>\n",
              "      <td>57.173266</td>\n",
              "      <td>514.082140</td>\n",
              "      <td>0.983902</td>\n",
              "      <td>18.707701</td>\n",
              "      <td>1.527904</td>\n",
              "      <td>2.457902e+06</td>\n",
              "      <td>68.741007</td>\n",
              "      <td>0.700277</td>\n",
              "      <td>J2000</td>\n",
              "      <td>False</td>\n",
              "    </tr>\n",
              "    <tr>\n",
              "      <th>4</th>\n",
              "      <td>3514799</td>\n",
              "      <td>3514799</td>\n",
              "      <td>21.6</td>\n",
              "      <td>0.127220</td>\n",
              "      <td>0.284472</td>\n",
              "      <td>127.219879</td>\n",
              "      <td>284.472297</td>\n",
              "      <td>0.079051</td>\n",
              "      <td>0.176763</td>\n",
              "      <td>417.388066</td>\n",
              "      <td>933.308089</td>\n",
              "      <td>1995-01-15</td>\n",
              "      <td>790156800000</td>\n",
              "      <td>9.840831</td>\n",
              "      <td>35426.991794</td>\n",
              "      <td>22012.954985</td>\n",
              "      <td>0.407832</td>\n",
              "      <td>158.646713</td>\n",
              "      <td>61010824.0</td>\n",
              "      <td>37910368.0</td>\n",
              "      <td>Earth</td>\n",
              "      <td>25</td>\n",
              "      <td>2017-04-06 08:57:58</td>\n",
              "      <td>1</td>\n",
              "      <td>0.034798</td>\n",
              "      <td>5.154</td>\n",
              "      <td>2458000.5</td>\n",
              "      <td>0.210448</td>\n",
              "      <td>1.225615</td>\n",
              "      <td>16.793382</td>\n",
              "      <td>84.629307</td>\n",
              "      <td>495.597821</td>\n",
              "      <td>0.967687</td>\n",
              "      <td>158.263596</td>\n",
              "      <td>1.483543</td>\n",
              "      <td>2.457814e+06</td>\n",
              "      <td>135.142133</td>\n",
              "      <td>0.726395</td>\n",
              "      <td>J2000</td>\n",
              "      <td>True</td>\n",
              "    </tr>\n",
              "  </tbody>\n",
              "</table>\n",
              "</div>\n",
              "      <button class=\"colab-df-convert\" onclick=\"convertToInteractive('df-a9415320-c600-4dc3-955a-1a6d2c9e04d6')\"\n",
              "              title=\"Convert this dataframe to an interactive table.\"\n",
              "              style=\"display:none;\">\n",
              "        \n",
              "  <svg xmlns=\"http://www.w3.org/2000/svg\" height=\"24px\"viewBox=\"0 0 24 24\"\n",
              "       width=\"24px\">\n",
              "    <path d=\"M0 0h24v24H0V0z\" fill=\"none\"/>\n",
              "    <path d=\"M18.56 5.44l.94 2.06.94-2.06 2.06-.94-2.06-.94-.94-2.06-.94 2.06-2.06.94zm-11 1L8.5 8.5l.94-2.06 2.06-.94-2.06-.94L8.5 2.5l-.94 2.06-2.06.94zm10 10l.94 2.06.94-2.06 2.06-.94-2.06-.94-.94-2.06-.94 2.06-2.06.94z\"/><path d=\"M17.41 7.96l-1.37-1.37c-.4-.4-.92-.59-1.43-.59-.52 0-1.04.2-1.43.59L10.3 9.45l-7.72 7.72c-.78.78-.78 2.05 0 2.83L4 21.41c.39.39.9.59 1.41.59.51 0 1.02-.2 1.41-.59l7.78-7.78 2.81-2.81c.8-.78.8-2.07 0-2.86zM5.41 20L4 18.59l7.72-7.72 1.47 1.35L5.41 20z\"/>\n",
              "  </svg>\n",
              "      </button>\n",
              "      \n",
              "  <style>\n",
              "    .colab-df-container {\n",
              "      display:flex;\n",
              "      flex-wrap:wrap;\n",
              "      gap: 12px;\n",
              "    }\n",
              "\n",
              "    .colab-df-convert {\n",
              "      background-color: #E8F0FE;\n",
              "      border: none;\n",
              "      border-radius: 50%;\n",
              "      cursor: pointer;\n",
              "      display: none;\n",
              "      fill: #1967D2;\n",
              "      height: 32px;\n",
              "      padding: 0 0 0 0;\n",
              "      width: 32px;\n",
              "    }\n",
              "\n",
              "    .colab-df-convert:hover {\n",
              "      background-color: #E2EBFA;\n",
              "      box-shadow: 0px 1px 2px rgba(60, 64, 67, 0.3), 0px 1px 3px 1px rgba(60, 64, 67, 0.15);\n",
              "      fill: #174EA6;\n",
              "    }\n",
              "\n",
              "    [theme=dark] .colab-df-convert {\n",
              "      background-color: #3B4455;\n",
              "      fill: #D2E3FC;\n",
              "    }\n",
              "\n",
              "    [theme=dark] .colab-df-convert:hover {\n",
              "      background-color: #434B5C;\n",
              "      box-shadow: 0px 1px 3px 1px rgba(0, 0, 0, 0.15);\n",
              "      filter: drop-shadow(0px 1px 2px rgba(0, 0, 0, 0.3));\n",
              "      fill: #FFFFFF;\n",
              "    }\n",
              "  </style>\n",
              "\n",
              "      <script>\n",
              "        const buttonEl =\n",
              "          document.querySelector('#df-a9415320-c600-4dc3-955a-1a6d2c9e04d6 button.colab-df-convert');\n",
              "        buttonEl.style.display =\n",
              "          google.colab.kernel.accessAllowed ? 'block' : 'none';\n",
              "\n",
              "        async function convertToInteractive(key) {\n",
              "          const element = document.querySelector('#df-a9415320-c600-4dc3-955a-1a6d2c9e04d6');\n",
              "          const dataTable =\n",
              "            await google.colab.kernel.invokeFunction('convertToInteractive',\n",
              "                                                     [key], {});\n",
              "          if (!dataTable) return;\n",
              "\n",
              "          const docLinkHtml = 'Like what you see? Visit the ' +\n",
              "            '<a target=\"_blank\" href=https://colab.research.google.com/notebooks/data_table.ipynb>data table notebook</a>'\n",
              "            + ' to learn more about interactive tables.';\n",
              "          element.innerHTML = '';\n",
              "          dataTable['output_type'] = 'display_data';\n",
              "          await google.colab.output.renderOutput(dataTable, element);\n",
              "          const docLink = document.createElement('div');\n",
              "          docLink.innerHTML = docLinkHtml;\n",
              "          element.appendChild(docLink);\n",
              "        }\n",
              "      </script>\n",
              "    </div>\n",
              "  </div>\n",
              "  "
            ],
            "text/plain": [
              "   Neo Reference ID     Name  ...  Equinox  Hazardous\n",
              "0           3703080  3703080  ...    J2000       True\n",
              "1           3723955  3723955  ...    J2000      False\n",
              "2           2446862  2446862  ...    J2000       True\n",
              "3           3092506  3092506  ...    J2000      False\n",
              "4           3514799  3514799  ...    J2000       True\n",
              "\n",
              "[5 rows x 40 columns]"
            ]
          },
          "metadata": {},
          "execution_count": 57
        }
      ],
      "source": [
        "# load the dataset\n",
        "data = pd.read_csv('/content/drive/MyDrive/nasa.csv')\n",
        "data.head()"
      ]
    },
    {
      "cell_type": "markdown",
      "id": "aa95ae9e",
      "metadata": {
        "papermill": {
          "duration": 0.062445,
          "end_time": "2021-10-22T19:45:56.162601",
          "exception": false,
          "start_time": "2021-10-22T19:45:56.100156",
          "status": "completed"
        },
        "tags": [],
        "id": "aa95ae9e"
      },
      "source": [
        "# Pre-Processing"
      ]
    },
    {
      "cell_type": "code",
      "execution_count": null,
      "id": "9bfecf06",
      "metadata": {
        "execution": {
          "iopub.execute_input": "2021-10-22T19:45:56.291854Z",
          "iopub.status.busy": "2021-10-22T19:45:56.290033Z",
          "iopub.status.idle": "2021-10-22T19:45:56.316797Z",
          "shell.execute_reply": "2021-10-22T19:45:56.316249Z",
          "shell.execute_reply.started": "2021-10-22T19:39:29.915676Z"
        },
        "papermill": {
          "duration": 0.092247,
          "end_time": "2021-10-22T19:45:56.316943",
          "exception": false,
          "start_time": "2021-10-22T19:45:56.224696",
          "status": "completed"
        },
        "tags": [],
        "colab": {
          "base_uri": "https://localhost:8080/"
        },
        "id": "9bfecf06",
        "outputId": "5446c8a3-d197-4d39-df08-0f0352ce2bea"
      },
      "outputs": [
        {
          "output_type": "stream",
          "name": "stdout",
          "text": [
            "(4687, 40)\n",
            "<class 'pandas.core.frame.DataFrame'>\n",
            "RangeIndex: 4687 entries, 0 to 4686\n",
            "Data columns (total 40 columns):\n",
            " #   Column                        Non-Null Count  Dtype  \n",
            "---  ------                        --------------  -----  \n",
            " 0   Neo Reference ID              4687 non-null   int64  \n",
            " 1   Name                          4687 non-null   int64  \n",
            " 2   Absolute Magnitude            4687 non-null   float64\n",
            " 3   Est Dia in KM(min)            4687 non-null   float64\n",
            " 4   Est Dia in KM(max)            4687 non-null   float64\n",
            " 5   Est Dia in M(min)             4687 non-null   float64\n",
            " 6   Est Dia in M(max)             4687 non-null   float64\n",
            " 7   Est Dia in Miles(min)         4687 non-null   float64\n",
            " 8   Est Dia in Miles(max)         4687 non-null   float64\n",
            " 9   Est Dia in Feet(min)          4687 non-null   float64\n",
            " 10  Est Dia in Feet(max)          4687 non-null   float64\n",
            " 11  Close Approach Date           4687 non-null   object \n",
            " 12  Epoch Date Close Approach     4687 non-null   int64  \n",
            " 13  Relative Velocity km per sec  4687 non-null   float64\n",
            " 14  Relative Velocity km per hr   4687 non-null   float64\n",
            " 15  Miles per hour                4687 non-null   float64\n",
            " 16  Miss Dist.(Astronomical)      4687 non-null   float64\n",
            " 17  Miss Dist.(lunar)             4687 non-null   float64\n",
            " 18  Miss Dist.(kilometers)        4687 non-null   float64\n",
            " 19  Miss Dist.(miles)             4687 non-null   float64\n",
            " 20  Orbiting Body                 4687 non-null   object \n",
            " 21  Orbit ID                      4687 non-null   int64  \n",
            " 22  Orbit Determination Date      4687 non-null   object \n",
            " 23  Orbit Uncertainity            4687 non-null   int64  \n",
            " 24  Minimum Orbit Intersection    4687 non-null   float64\n",
            " 25  Jupiter Tisserand Invariant   4687 non-null   float64\n",
            " 26  Epoch Osculation              4687 non-null   float64\n",
            " 27  Eccentricity                  4687 non-null   float64\n",
            " 28  Semi Major Axis               4687 non-null   float64\n",
            " 29  Inclination                   4687 non-null   float64\n",
            " 30  Asc Node Longitude            4687 non-null   float64\n",
            " 31  Orbital Period                4687 non-null   float64\n",
            " 32  Perihelion Distance           4687 non-null   float64\n",
            " 33  Perihelion Arg                4687 non-null   float64\n",
            " 34  Aphelion Dist                 4687 non-null   float64\n",
            " 35  Perihelion Time               4687 non-null   float64\n",
            " 36  Mean Anomaly                  4687 non-null   float64\n",
            " 37  Mean Motion                   4687 non-null   float64\n",
            " 38  Equinox                       4687 non-null   object \n",
            " 39  Hazardous                     4687 non-null   bool   \n",
            "dtypes: bool(1), float64(30), int64(5), object(4)\n",
            "memory usage: 1.4+ MB\n",
            "None\n"
          ]
        }
      ],
      "source": [
        "print(data.shape)\n",
        "print(data.info())"
      ]
    },
    {
      "cell_type": "markdown",
      "id": "75540138",
      "metadata": {
        "papermill": {
          "duration": 0.061929,
          "end_time": "2021-10-22T19:45:56.441054",
          "exception": false,
          "start_time": "2021-10-22T19:45:56.379125",
          "status": "completed"
        },
        "tags": [],
        "id": "75540138"
      },
      "source": [
        "Dataset contains the informaion about 4687 asteroids with 40 features."
      ]
    },
    {
      "cell_type": "code",
      "execution_count": null,
      "id": "fc774aec",
      "metadata": {
        "execution": {
          "iopub.execute_input": "2021-10-22T19:45:56.569183Z",
          "iopub.status.busy": "2021-10-22T19:45:56.568162Z",
          "iopub.status.idle": "2021-10-22T19:45:56.582642Z",
          "shell.execute_reply": "2021-10-22T19:45:56.582053Z",
          "shell.execute_reply.started": "2021-10-22T19:39:29.942759Z"
        },
        "papermill": {
          "duration": 0.079691,
          "end_time": "2021-10-22T19:45:56.582790",
          "exception": false,
          "start_time": "2021-10-22T19:45:56.503099",
          "status": "completed"
        },
        "tags": [],
        "colab": {
          "base_uri": "https://localhost:8080/"
        },
        "id": "fc774aec",
        "outputId": "e4a9c63c-a6d4-41c1-fcc0-faa0bd0a0bb4"
      },
      "outputs": [
        {
          "output_type": "execute_result",
          "data": {
            "text/plain": [
              "Hazardous                       0\n",
              "Equinox                         0\n",
              "Miss Dist.(lunar)               0\n",
              "Miss Dist.(Astronomical)        0\n",
              "Miles per hour                  0\n",
              "Relative Velocity km per hr     0\n",
              "Relative Velocity km per sec    0\n",
              "Epoch Date Close Approach       0\n",
              "Close Approach Date             0\n",
              "Est Dia in Feet(max)            0\n",
              "Est Dia in Feet(min)            0\n",
              "Est Dia in Miles(max)           0\n",
              "Est Dia in Miles(min)           0\n",
              "Est Dia in M(max)               0\n",
              "Est Dia in M(min)               0\n",
              "Est Dia in KM(max)              0\n",
              "Est Dia in KM(min)              0\n",
              "Absolute Magnitude              0\n",
              "Name                            0\n",
              "Miss Dist.(kilometers)          0\n",
              "Miss Dist.(miles)               0\n",
              "Orbiting Body                   0\n",
              "Asc Node Longitude              0\n",
              "Mean Motion                     0\n",
              "Mean Anomaly                    0\n",
              "Perihelion Time                 0\n",
              "Aphelion Dist                   0\n",
              "Perihelion Arg                  0\n",
              "Perihelion Distance             0\n",
              "Orbital Period                  0\n",
              "Inclination                     0\n",
              "Orbit ID                        0\n",
              "Semi Major Axis                 0\n",
              "Eccentricity                    0\n",
              "Epoch Osculation                0\n",
              "Jupiter Tisserand Invariant     0\n",
              "Minimum Orbit Intersection      0\n",
              "Orbit Uncertainity              0\n",
              "Orbit Determination Date        0\n",
              "Neo Reference ID                0\n",
              "dtype: int64"
            ]
          },
          "metadata": {},
          "execution_count": 59
        }
      ],
      "source": [
        "# missing value in the data\n",
        "round((data.isnull().sum()),2).sort_values(ascending=False)"
      ]
    },
    {
      "cell_type": "markdown",
      "id": "80cfb1e9",
      "metadata": {
        "papermill": {
          "duration": 0.061965,
          "end_time": "2021-10-22T19:45:56.707410",
          "exception": false,
          "start_time": "2021-10-22T19:45:56.645445",
          "status": "completed"
        },
        "tags": [],
        "id": "80cfb1e9"
      },
      "source": [
        "This dataset not contain any missing values."
      ]
    },
    {
      "cell_type": "code",
      "execution_count": null,
      "id": "be305b50",
      "metadata": {
        "execution": {
          "iopub.execute_input": "2021-10-22T19:45:56.837271Z",
          "iopub.status.busy": "2021-10-22T19:45:56.836583Z",
          "iopub.status.idle": "2021-10-22T19:45:56.858034Z",
          "shell.execute_reply": "2021-10-22T19:45:56.858610Z",
          "shell.execute_reply.started": "2021-10-22T19:39:29.964311Z"
        },
        "papermill": {
          "duration": 0.089234,
          "end_time": "2021-10-22T19:45:56.858796",
          "exception": false,
          "start_time": "2021-10-22T19:45:56.769562",
          "status": "completed"
        },
        "tags": [],
        "colab": {
          "base_uri": "https://localhost:8080/"
        },
        "id": "be305b50",
        "outputId": "9b87f429-0e5b-48ef-e8fe-43510a9ae675"
      },
      "outputs": [
        {
          "output_type": "execute_result",
          "data": {
            "text/plain": [
              "Neo Reference ID                3692\n",
              "Name                            3692\n",
              "Absolute Magnitude               269\n",
              "Est Dia in KM(min)               269\n",
              "Est Dia in KM(max)               269\n",
              "Est Dia in M(min)                269\n",
              "Est Dia in M(max)                269\n",
              "Est Dia in Miles(min)            269\n",
              "Est Dia in Miles(max)            269\n",
              "Est Dia in Feet(min)             269\n",
              "Est Dia in Feet(max)             269\n",
              "Close Approach Date              777\n",
              "Epoch Date Close Approach        777\n",
              "Relative Velocity km per sec    4687\n",
              "Relative Velocity km per hr     4687\n",
              "Miles per hour                  4687\n",
              "Miss Dist.(Astronomical)        4673\n",
              "Miss Dist.(lunar)               4660\n",
              "Miss Dist.(kilometers)          4661\n",
              "Miss Dist.(miles)               4660\n",
              "Orbiting Body                      1\n",
              "Orbit ID                         188\n",
              "Orbit Determination Date        2680\n",
              "Orbit Uncertainity                10\n",
              "Minimum Orbit Intersection      3678\n",
              "Jupiter Tisserand Invariant     2495\n",
              "Epoch Osculation                 429\n",
              "Eccentricity                    3692\n",
              "Semi Major Axis                 3692\n",
              "Inclination                     3692\n",
              "Asc Node Longitude              3692\n",
              "Orbital Period                  3692\n",
              "Perihelion Distance             3692\n",
              "Perihelion Arg                  3692\n",
              "Aphelion Dist                   3692\n",
              "Perihelion Time                 3692\n",
              "Mean Anomaly                    3692\n",
              "Mean Motion                     3692\n",
              "Equinox                            1\n",
              "Hazardous                          2\n",
              "dtype: int64"
            ]
          },
          "metadata": {},
          "execution_count": 60
        }
      ],
      "source": [
        "# find the unique values\n",
        "data.nunique()"
      ]
    },
    {
      "cell_type": "markdown",
      "id": "2393851f",
      "metadata": {
        "papermill": {
          "duration": 0.062285,
          "end_time": "2021-10-22T19:45:56.983944",
          "exception": false,
          "start_time": "2021-10-22T19:45:56.921659",
          "status": "completed"
        },
        "tags": [],
        "id": "2393851f"
      },
      "source": [
        "'Orbiting Body' and 'Equinox' contain one value for all the data.  \n",
        "'Neo Reference ID', 'Name','Close Approach Date','Epoch Date Close Approach','Orbit ID','Orbit Determination Date','Epoch Osculation', and 'Perihelion Time' contain some level of unique data or text data that are less interest.  \n",
        "So, we can drop all these variables."
      ]
    },
    {
      "cell_type": "code",
      "execution_count": null,
      "id": "8dd08ccd",
      "metadata": {
        "execution": {
          "iopub.execute_input": "2021-10-22T19:45:57.113273Z",
          "iopub.status.busy": "2021-10-22T19:45:57.112239Z",
          "iopub.status.idle": "2021-10-22T19:45:57.120065Z",
          "shell.execute_reply": "2021-10-22T19:45:57.120669Z",
          "shell.execute_reply.started": "2021-10-22T19:39:29.988262Z"
        },
        "papermill": {
          "duration": 0.074227,
          "end_time": "2021-10-22T19:45:57.120847",
          "exception": false,
          "start_time": "2021-10-22T19:45:57.046620",
          "status": "completed"
        },
        "tags": [],
        "colab": {
          "base_uri": "https://localhost:8080/"
        },
        "id": "8dd08ccd",
        "outputId": "33e8ec64-e58e-41ca-d48b-90178c00ce82"
      },
      "outputs": [
        {
          "output_type": "execute_result",
          "data": {
            "text/plain": [
              "(4687, 30)"
            ]
          },
          "metadata": {},
          "execution_count": 61
        }
      ],
      "source": [
        "# drop the mentioned variables from the dataset\n",
        "df = data.drop(['Orbiting Body','Equinox','Neo Reference ID', 'Name','Close Approach Date','Epoch Date Close Approach','Orbit ID','Orbit Determination Date','Epoch Osculation','Perihelion Time'], axis = 1)\n",
        "df.shape"
      ]
    },
    {
      "cell_type": "markdown",
      "id": "7cfe528e",
      "metadata": {
        "papermill": {
          "duration": 0.062717,
          "end_time": "2021-10-22T19:45:57.246983",
          "exception": false,
          "start_time": "2021-10-22T19:45:57.184266",
          "status": "completed"
        },
        "tags": [],
        "id": "7cfe528e"
      },
      "source": [
        "## Correlation among the variables"
      ]
    },
    {
      "cell_type": "code",
      "source": [
        "mask = np.zeros_like(df.corr(method='pearson'), dtype=np.bool)\n",
        "tt = np.triu_indices_from(mask)\n",
        "mask[np.triu_indices_from(mask,k=0)]=True\n",
        "cmap = sns.diverging_palette(10,129,s=50, as_cmap=True)"
      ],
      "metadata": {
        "id": "tStwSeuYAcvS"
      },
      "id": "tStwSeuYAcvS",
      "execution_count": null,
      "outputs": []
    },
    {
      "cell_type": "code",
      "source": [
        "sns.heatmap(df.corr(method='pearson'), mask=mask, cmap=\"YlGnBu\",vmax=0.3, center=0, square=True, linewidths=0.1, cbar_kws={\"shrink\": 0.5})"
      ],
      "metadata": {
        "colab": {
          "base_uri": "https://localhost:8080/",
          "height": 408
        },
        "id": "P8CsfVNaAgRg",
        "outputId": "29372a11-358b-4ff1-d7d1-1d3e479d305e"
      },
      "id": "P8CsfVNaAgRg",
      "execution_count": null,
      "outputs": [
        {
          "output_type": "execute_result",
          "data": {
            "text/plain": [
              "<matplotlib.axes._subplots.AxesSubplot at 0x7fa3d8617990>"
            ]
          },
          "metadata": {},
          "execution_count": 63
        },
        {
          "output_type": "display_data",
          "data": {
            "image/png": "[encoded data removed]",
            "text/plain": [
              "<Figure size 432x288 with 2 Axes>"
            ]
          },
          "metadata": {
            "needs_background": "light"
          }
        }
      ]
    },
    {
      "cell_type": "markdown",
      "id": "067c2624",
      "metadata": {
        "papermill": {
          "duration": 0.068021,
          "end_time": "2021-10-22T19:45:58.690388",
          "exception": false,
          "start_time": "2021-10-22T19:45:58.622367",
          "status": "completed"
        },
        "tags": [],
        "id": "067c2624"
      },
      "source": [
        "Min and max estimated diameter have measured in several units like Km, m, Miles, and Feet. All the variables shows an perfect correlation to each other. We can keep one variable to measure the estimated diameter. So we are going to **keep _'Est Dia in KM(min)'_**.  \n",
        "Relative velocity has also measured in three different units they are perfectly correlated to each other. We are going to **keep _'Relative Velocity km per hr'_**  \n",
        "'Miss Dist.' also has shows same charecteristics as above two. So, we are going to **keep _'Miss Dist.(kilometers)'_**"
      ]
    },
    {
      "cell_type": "code",
      "execution_count": null,
      "id": "8f159b23",
      "metadata": {
        "execution": {
          "iopub.execute_input": "2021-10-22T19:45:58.848806Z",
          "iopub.status.busy": "2021-10-22T19:45:58.847972Z",
          "iopub.status.idle": "2021-10-22T19:45:58.852992Z",
          "shell.execute_reply": "2021-10-22T19:45:58.852469Z",
          "shell.execute_reply.started": "2021-10-22T19:39:31.301385Z"
        },
        "papermill": {
          "duration": 0.095943,
          "end_time": "2021-10-22T19:45:58.853135",
          "exception": false,
          "start_time": "2021-10-22T19:45:58.757192",
          "status": "completed"
        },
        "tags": [],
        "colab": {
          "base_uri": "https://localhost:8080/",
          "height": 302
        },
        "id": "8f159b23",
        "outputId": "95f8813e-8345-40a9-dd10-433c5e9f7ffb"
      },
      "outputs": [
        {
          "output_type": "stream",
          "name": "stdout",
          "text": [
            "(4687, 18)\n"
          ]
        },
        {
          "output_type": "execute_result",
          "data": {
            "text/html": [
              "\n",
              "  <div id=\"df-1582edb4-7ba2-4cd5-ac32-ace65c913797\">\n",
              "    <div class=\"colab-df-container\">\n",
              "      <div>\n",
              "<style scoped>\n",
              "    .dataframe tbody tr th:only-of-type {\n",
              "        vertical-align: middle;\n",
              "    }\n",
              "\n",
              "    .dataframe tbody tr th {\n",
              "        vertical-align: top;\n",
              "    }\n",
              "\n",
              "    .dataframe thead th {\n",
              "        text-align: right;\n",
              "    }\n",
              "</style>\n",
              "<table border=\"1\" class=\"dataframe\">\n",
              "  <thead>\n",
              "    <tr style=\"text-align: right;\">\n",
              "      <th></th>\n",
              "      <th>Absolute Magnitude</th>\n",
              "      <th>Est Dia in KM(min)</th>\n",
              "      <th>Relative Velocity km per hr</th>\n",
              "      <th>Miss Dist.(kilometers)</th>\n",
              "      <th>Orbit Uncertainity</th>\n",
              "      <th>Minimum Orbit Intersection</th>\n",
              "      <th>Jupiter Tisserand Invariant</th>\n",
              "      <th>Eccentricity</th>\n",
              "      <th>Semi Major Axis</th>\n",
              "      <th>Inclination</th>\n",
              "      <th>Asc Node Longitude</th>\n",
              "      <th>Orbital Period</th>\n",
              "      <th>Perihelion Distance</th>\n",
              "      <th>Perihelion Arg</th>\n",
              "      <th>Aphelion Dist</th>\n",
              "      <th>Mean Anomaly</th>\n",
              "      <th>Mean Motion</th>\n",
              "      <th>Hazardous</th>\n",
              "    </tr>\n",
              "  </thead>\n",
              "  <tbody>\n",
              "    <tr>\n",
              "      <th>0</th>\n",
              "      <td>21.6</td>\n",
              "      <td>0.127220</td>\n",
              "      <td>22017.003799</td>\n",
              "      <td>62753692.0</td>\n",
              "      <td>5</td>\n",
              "      <td>0.025282</td>\n",
              "      <td>4.634</td>\n",
              "      <td>0.425549</td>\n",
              "      <td>1.407011</td>\n",
              "      <td>6.025981</td>\n",
              "      <td>314.373913</td>\n",
              "      <td>609.599786</td>\n",
              "      <td>0.808259</td>\n",
              "      <td>57.257470</td>\n",
              "      <td>2.005764</td>\n",
              "      <td>264.837533</td>\n",
              "      <td>0.590551</td>\n",
              "      <td>True</td>\n",
              "    </tr>\n",
              "    <tr>\n",
              "      <th>1</th>\n",
              "      <td>21.3</td>\n",
              "      <td>0.146068</td>\n",
              "      <td>65210.346095</td>\n",
              "      <td>57298148.0</td>\n",
              "      <td>3</td>\n",
              "      <td>0.186935</td>\n",
              "      <td>5.457</td>\n",
              "      <td>0.351674</td>\n",
              "      <td>1.107776</td>\n",
              "      <td>28.412996</td>\n",
              "      <td>136.717242</td>\n",
              "      <td>425.869294</td>\n",
              "      <td>0.718200</td>\n",
              "      <td>313.091975</td>\n",
              "      <td>1.497352</td>\n",
              "      <td>173.741112</td>\n",
              "      <td>0.845330</td>\n",
              "      <td>False</td>\n",
              "    </tr>\n",
              "    <tr>\n",
              "      <th>2</th>\n",
              "      <td>20.3</td>\n",
              "      <td>0.231502</td>\n",
              "      <td>27326.560182</td>\n",
              "      <td>7622911.5</td>\n",
              "      <td>0</td>\n",
              "      <td>0.043058</td>\n",
              "      <td>4.557</td>\n",
              "      <td>0.348248</td>\n",
              "      <td>1.458824</td>\n",
              "      <td>4.237961</td>\n",
              "      <td>259.475979</td>\n",
              "      <td>643.580228</td>\n",
              "      <td>0.950791</td>\n",
              "      <td>248.415038</td>\n",
              "      <td>1.966857</td>\n",
              "      <td>292.893654</td>\n",
              "      <td>0.559371</td>\n",
              "      <td>True</td>\n",
              "    </tr>\n",
              "    <tr>\n",
              "      <th>3</th>\n",
              "      <td>27.4</td>\n",
              "      <td>0.008801</td>\n",
              "      <td>40225.948191</td>\n",
              "      <td>42683616.0</td>\n",
              "      <td>6</td>\n",
              "      <td>0.005512</td>\n",
              "      <td>5.093</td>\n",
              "      <td>0.216578</td>\n",
              "      <td>1.255903</td>\n",
              "      <td>7.905894</td>\n",
              "      <td>57.173266</td>\n",
              "      <td>514.082140</td>\n",
              "      <td>0.983902</td>\n",
              "      <td>18.707701</td>\n",
              "      <td>1.527904</td>\n",
              "      <td>68.741007</td>\n",
              "      <td>0.700277</td>\n",
              "      <td>False</td>\n",
              "    </tr>\n",
              "    <tr>\n",
              "      <th>4</th>\n",
              "      <td>21.6</td>\n",
              "      <td>0.127220</td>\n",
              "      <td>35426.991794</td>\n",
              "      <td>61010824.0</td>\n",
              "      <td>1</td>\n",
              "      <td>0.034798</td>\n",
              "      <td>5.154</td>\n",
              "      <td>0.210448</td>\n",
              "      <td>1.225615</td>\n",
              "      <td>16.793382</td>\n",
              "      <td>84.629307</td>\n",
              "      <td>495.597821</td>\n",
              "      <td>0.967687</td>\n",
              "      <td>158.263596</td>\n",
              "      <td>1.483543</td>\n",
              "      <td>135.142133</td>\n",
              "      <td>0.726395</td>\n",
              "      <td>True</td>\n",
              "    </tr>\n",
              "  </tbody>\n",
              "</table>\n",
              "</div>\n",
              "      <button class=\"colab-df-convert\" onclick=\"convertToInteractive('df-1582edb4-7ba2-4cd5-ac32-ace65c913797')\"\n",
              "              title=\"Convert this dataframe to an interactive table.\"\n",
              "              style=\"display:none;\">\n",
              "        \n",
              "  <svg xmlns=\"http://www.w3.org/2000/svg\" height=\"24px\"viewBox=\"0 0 24 24\"\n",
              "       width=\"24px\">\n",
              "    <path d=\"M0 0h24v24H0V0z\" fill=\"none\"/>\n",
              "    <path d=\"M18.56 5.44l.94 2.06.94-2.06 2.06-.94-2.06-.94-.94-2.06-.94 2.06-2.06.94zm-11 1L8.5 8.5l.94-2.06 2.06-.94-2.06-.94L8.5 2.5l-.94 2.06-2.06.94zm10 10l.94 2.06.94-2.06 2.06-.94-2.06-.94-.94-2.06-.94 2.06-2.06.94z\"/><path d=\"M17.41 7.96l-1.37-1.37c-.4-.4-.92-.59-1.43-.59-.52 0-1.04.2-1.43.59L10.3 9.45l-7.72 7.72c-.78.78-.78 2.05 0 2.83L4 21.41c.39.39.9.59 1.41.59.51 0 1.02-.2 1.41-.59l7.78-7.78 2.81-2.81c.8-.78.8-2.07 0-2.86zM5.41 20L4 18.59l7.72-7.72 1.47 1.35L5.41 20z\"/>\n",
              "  </svg>\n",
              "      </button>\n",
              "      \n",
              "  <style>\n",
              "    .colab-df-container {\n",
              "      display:flex;\n",
              "      flex-wrap:wrap;\n",
              "      gap: 12px;\n",
              "    }\n",
              "\n",
              "    .colab-df-convert {\n",
              "      background-color: #E8F0FE;\n",
              "      border: none;\n",
              "      border-radius: 50%;\n",
              "      cursor: pointer;\n",
              "      display: none;\n",
              "      fill: #1967D2;\n",
              "      height: 32px;\n",
              "      padding: 0 0 0 0;\n",
              "      width: 32px;\n",
              "    }\n",
              "\n",
              "    .colab-df-convert:hover {\n",
              "      background-color: #E2EBFA;\n",
              "      box-shadow: 0px 1px 2px rgba(60, 64, 67, 0.3), 0px 1px 3px 1px rgba(60, 64, 67, 0.15);\n",
              "      fill: #174EA6;\n",
              "    }\n",
              "\n",
              "    [theme=dark] .colab-df-convert {\n",
              "      background-color: #3B4455;\n",
              "      fill: #D2E3FC;\n",
              "    }\n",
              "\n",
              "    [theme=dark] .colab-df-convert:hover {\n",
              "      background-color: #434B5C;\n",
              "      box-shadow: 0px 1px 3px 1px rgba(0, 0, 0, 0.15);\n",
              "      filter: drop-shadow(0px 1px 2px rgba(0, 0, 0, 0.3));\n",
              "      fill: #FFFFFF;\n",
              "    }\n",
              "  </style>\n",
              "\n",
              "      <script>\n",
              "        const buttonEl =\n",
              "          document.querySelector('#df-1582edb4-7ba2-4cd5-ac32-ace65c913797 button.colab-df-convert');\n",
              "        buttonEl.style.display =\n",
              "          google.colab.kernel.accessAllowed ? 'block' : 'none';\n",
              "\n",
              "        async function convertToInteractive(key) {\n",
              "          const element = document.querySelector('#df-1582edb4-7ba2-4cd5-ac32-ace65c913797');\n",
              "          const dataTable =\n",
              "            await google.colab.kernel.invokeFunction('convertToInteractive',\n",
              "                                                     [key], {});\n",
              "          if (!dataTable) return;\n",
              "\n",
              "          const docLinkHtml = 'Like what you see? Visit the ' +\n",
              "            '<a target=\"_blank\" href=https://colab.research.google.com/notebooks/data_table.ipynb>data table notebook</a>'\n",
              "            + ' to learn more about interactive tables.';\n",
              "          element.innerHTML = '';\n",
              "          dataTable['output_type'] = 'display_data';\n",
              "          await google.colab.output.renderOutput(dataTable, element);\n",
              "          const docLink = document.createElement('div');\n",
              "          docLink.innerHTML = docLinkHtml;\n",
              "          element.appendChild(docLink);\n",
              "        }\n",
              "      </script>\n",
              "    </div>\n",
              "  </div>\n",
              "  "
            ],
            "text/plain": [
              "   Absolute Magnitude  Est Dia in KM(min)  ...  Mean Motion  Hazardous\n",
              "0                21.6            0.127220  ...     0.590551       True\n",
              "1                21.3            0.146068  ...     0.845330      False\n",
              "2                20.3            0.231502  ...     0.559371       True\n",
              "3                27.4            0.008801  ...     0.700277      False\n",
              "4                21.6            0.127220  ...     0.726395       True\n",
              "\n",
              "[5 rows x 18 columns]"
            ]
          },
          "metadata": {},
          "execution_count": 64
        }
      ],
      "source": [
        "# drop the mentioned variables from the dataset\n",
        "df = df.drop(['Est Dia in KM(max)','Est Dia in M(min)','Est Dia in M(max)','Est Dia in Miles(min)','Est Dia in Miles(max)','Est Dia in Feet(min)','Est Dia in Feet(max)',\n",
        "             'Relative Velocity km per sec','Miles per hour',\n",
        "             'Miss Dist.(Astronomical)','Miss Dist.(lunar)','Miss Dist.(miles)'],axis = 1)\n",
        "print(df.shape)\n",
        "df.head()"
      ]
    },
    {
      "cell_type": "code",
      "execution_count": null,
      "id": "2b2f2619",
      "metadata": {
        "execution": {
          "iopub.execute_input": "2021-10-22T19:45:58.992688Z",
          "iopub.status.busy": "2021-10-22T19:45:58.991922Z",
          "iopub.status.idle": "2021-10-22T19:45:59.003419Z",
          "shell.execute_reply": "2021-10-22T19:45:59.003985Z",
          "shell.execute_reply.started": "2021-10-22T19:39:31.334130Z"
        },
        "papermill": {
          "duration": 0.082701,
          "end_time": "2021-10-22T19:45:59.004179",
          "exception": false,
          "start_time": "2021-10-22T19:45:58.921478",
          "status": "completed"
        },
        "tags": [],
        "colab": {
          "base_uri": "https://localhost:8080/"
        },
        "id": "2b2f2619",
        "outputId": "5f258c61-ed98-488e-da4e-647fd454387a"
      },
      "outputs": [
        {
          "output_type": "stream",
          "name": "stdout",
          "text": [
            "<class 'pandas.core.frame.DataFrame'>\n",
            "RangeIndex: 4687 entries, 0 to 4686\n",
            "Data columns (total 18 columns):\n",
            " #   Column                       Non-Null Count  Dtype  \n",
            "---  ------                       --------------  -----  \n",
            " 0   Absolute Magnitude           4687 non-null   float64\n",
            " 1   Est Dia in KM(min)           4687 non-null   float64\n",
            " 2   Relative Velocity km per hr  4687 non-null   float64\n",
            " 3   Miss Dist.(kilometers)       4687 non-null   float64\n",
            " 4   Orbit Uncertainity           4687 non-null   int64  \n",
            " 5   Minimum Orbit Intersection   4687 non-null   float64\n",
            " 6   Jupiter Tisserand Invariant  4687 non-null   float64\n",
            " 7   Eccentricity                 4687 non-null   float64\n",
            " 8   Semi Major Axis              4687 non-null   float64\n",
            " 9   Inclination                  4687 non-null   float64\n",
            " 10  Asc Node Longitude           4687 non-null   float64\n",
            " 11  Orbital Period               4687 non-null   float64\n",
            " 12  Perihelion Distance          4687 non-null   float64\n",
            " 13  Perihelion Arg               4687 non-null   float64\n",
            " 14  Aphelion Dist                4687 non-null   float64\n",
            " 15  Mean Anomaly                 4687 non-null   float64\n",
            " 16  Mean Motion                  4687 non-null   float64\n",
            " 17  Hazardous                    4687 non-null   bool   \n",
            "dtypes: bool(1), float64(16), int64(1)\n",
            "memory usage: 627.2 KB\n"
          ]
        }
      ],
      "source": [
        "df.info()"
      ]
    },
    {
      "cell_type": "code",
      "source": [
        "mask = np.zeros_like(df.corr(method='pearson'), dtype=np.bool)\n",
        "tt = np.triu_indices_from(mask)\n",
        "mask[np.triu_indices_from(mask,k=0)]=True\n",
        "cmap = sns.diverging_palette(10,129,s=50, as_cmap=True)"
      ],
      "metadata": {
        "id": "ztmYkxMkCUsX"
      },
      "id": "ztmYkxMkCUsX",
      "execution_count": null,
      "outputs": []
    },
    {
      "cell_type": "code",
      "source": [
        "sns.heatmap(df.corr(method='pearson'), mask=mask, cmap=\"YlGnBu\",vmax=0.3, center=0, square=True, linewidths=0.1, cbar_kws={\"shrink\": 0.5})"
      ],
      "metadata": {
        "colab": {
          "base_uri": "https://localhost:8080/",
          "height": 409
        },
        "id": "yOR11ccnCVvG",
        "outputId": "e5413bf3-1f64-47d4-dec3-326763165ece"
      },
      "id": "yOR11ccnCVvG",
      "execution_count": null,
      "outputs": [
        {
          "output_type": "execute_result",
          "data": {
            "text/plain": [
              "<matplotlib.axes._subplots.AxesSubplot at 0x7fa3d82d2590>"
            ]
          },
          "metadata": {},
          "execution_count": 67
        },
        {
          "output_type": "display_data",
          "data": {
            "image/png": "[encoded data removed]",
            "text/plain": [
              "<Figure size 432x288 with 2 Axes>"
            ]
          },
          "metadata": {
            "needs_background": "light"
          }
        }
      ]
    },
    {
      "cell_type": "code",
      "execution_count": null,
      "id": "bd87f088",
      "metadata": {
        "execution": {
          "iopub.execute_input": "2021-10-22T19:45:59.908038Z",
          "iopub.status.busy": "2021-10-22T19:45:59.907115Z",
          "iopub.status.idle": "2021-10-22T19:46:00.275094Z",
          "shell.execute_reply": "2021-10-22T19:46:00.274573Z",
          "shell.execute_reply.started": "2021-10-22T19:39:32.067577Z"
        },
        "papermill": {
          "duration": 0.445333,
          "end_time": "2021-10-22T19:46:00.275253",
          "exception": false,
          "start_time": "2021-10-22T19:45:59.829920",
          "status": "completed"
        },
        "tags": [],
        "colab": {
          "base_uri": "https://localhost:8080/",
          "height": 392
        },
        "id": "bd87f088",
        "outputId": "e6c726e4-1065-4e31-8176-af07c1f8de7f"
      },
      "outputs": [
        {
          "output_type": "display_data",
          "data": {
            "image/png": "[encoded data removed]",
            "text/plain": [
              "<Figure size 432x288 with 1 Axes>"
            ]
          },
          "metadata": {
            "needs_background": "light"
          }
        }
      ],
      "source": [
        "# To get a more clear picture of the correlation with Hazardous Nature\n",
        "df.corr()['Hazardous'][:-1].sort_values().plot(kind='bar')\n",
        "plt.show()"
      ]
    },
    {
      "cell_type": "markdown",
      "id": "fcfa56c1",
      "metadata": {
        "papermill": {
          "duration": 0.084897,
          "end_time": "2021-10-22T19:46:11.651090",
          "exception": false,
          "start_time": "2021-10-22T19:46:11.566193",
          "status": "completed"
        },
        "tags": [],
        "id": "fcfa56c1"
      },
      "source": [
        "Let's separate the variable of interest as the response variable and all the other variables as the predictor variables."
      ]
    },
    {
      "cell_type": "markdown",
      "id": "1a693154",
      "metadata": {
        "papermill": {
          "duration": 0.085035,
          "end_time": "2021-10-22T19:46:12.003986",
          "exception": false,
          "start_time": "2021-10-22T19:46:11.918951",
          "status": "completed"
        },
        "tags": [],
        "id": "1a693154"
      },
      "source": [
        "#Train Test Split\n",
        "80% of the dataset is used to train the classification models and remaining 20% is used for the eveluations"
      ]
    },
    {
      "cell_type": "code",
      "execution_count": null,
      "id": "7314bd52",
      "metadata": {
        "execution": {
          "iopub.execute_input": "2021-10-22T19:46:11.831246Z",
          "iopub.status.busy": "2021-10-22T19:46:11.830572Z",
          "iopub.status.idle": "2021-10-22T19:46:11.832824Z",
          "shell.execute_reply": "2021-10-22T19:46:11.833414Z",
          "shell.execute_reply.started": "2021-10-22T19:39:38.230853Z"
        },
        "papermill": {
          "duration": 0.093815,
          "end_time": "2021-10-22T19:46:11.833607",
          "exception": false,
          "start_time": "2021-10-22T19:46:11.739792",
          "status": "completed"
        },
        "tags": [],
        "id": "7314bd52"
      },
      "outputs": [],
      "source": [
        "y=df.iloc[:,-1].values\n",
        "x=df.iloc[:,:-1].values"
      ]
    },
    {
      "cell_type": "code",
      "execution_count": null,
      "id": "95f89451",
      "metadata": {
        "execution": {
          "iopub.execute_input": "2021-10-22T19:46:12.183233Z",
          "iopub.status.busy": "2021-10-22T19:46:12.182494Z",
          "iopub.status.idle": "2021-10-22T19:46:12.187329Z",
          "shell.execute_reply": "2021-10-22T19:46:12.187953Z",
          "shell.execute_reply.started": "2021-10-22T19:39:38.240491Z"
        },
        "papermill": {
          "duration": 0.098929,
          "end_time": "2021-10-22T19:46:12.188130",
          "exception": false,
          "start_time": "2021-10-22T19:46:12.089201",
          "status": "completed"
        },
        "tags": [],
        "colab": {
          "base_uri": "https://localhost:8080/"
        },
        "id": "95f89451",
        "outputId": "4a4579ff-110b-44a5-e893-f23195629eb3"
      },
      "outputs": [
        {
          "output_type": "stream",
          "name": "stdout",
          "text": [
            "(3749, 17)\n",
            "(938, 17)\n"
          ]
        }
      ],
      "source": [
        "# split data set into train and test\n",
        "train_x,test_x,train_y,test_y=train_test_split(x,y,test_size=0.2,random_state=2)\n",
        "print(train_x.shape)\n",
        "print(test_x.shape)"
      ]
    },
    {
      "cell_type": "code",
      "execution_count": null,
      "id": "a8a91945",
      "metadata": {
        "execution": {
          "iopub.execute_input": "2021-10-22T19:46:12.710586Z",
          "iopub.status.busy": "2021-10-22T19:46:12.709954Z",
          "iopub.status.idle": "2021-10-22T19:46:12.715201Z",
          "shell.execute_reply": "2021-10-22T19:46:12.715800Z",
          "shell.execute_reply.started": "2021-10-22T19:39:38.265324Z"
        },
        "papermill": {
          "duration": 0.093635,
          "end_time": "2021-10-22T19:46:12.715964",
          "exception": false,
          "start_time": "2021-10-22T19:46:12.622329",
          "status": "completed"
        },
        "tags": [],
        "id": "a8a91945"
      },
      "outputs": [],
      "source": [
        "# define a function to train and test the models\n",
        "def train_model(model, train_x, train_y):\n",
        "    model.fit(train_x, train_y)\n",
        "    return model\n",
        "    \n",
        "def test_model(model,test_x,test_y):\n",
        "  predictions = model.predict(test_x)\n",
        "  accuracy = model.score(test_x, test_y)\n",
        "  metrics_report = classification_report(test_y, predictions)\n",
        "  precision, recall, fscore, train_support = score(test_y, predictions, average='weighted')\n",
        "  return predictions,accuracy, metrics_report, (precision, recall, fscore)"
      ]
    },
    {
      "cell_type": "markdown",
      "source": [
        "#FEATURE SCALING\n"
      ],
      "metadata": {
        "id": "VkGGHYizQ0AU"
      },
      "id": "VkGGHYizQ0AU"
    },
    {
      "cell_type": "code",
      "source": [
        "#Scale The Datapoint \n",
        "sc= StandardScaler()\n",
        "train_x=sc.fit_transform(train_x)\n",
        "test_x=sc.transform(test_x)"
      ],
      "metadata": {
        "id": "Fw3j00j6Q_Wz"
      },
      "id": "Fw3j00j6Q_Wz",
      "execution_count": null,
      "outputs": []
    },
    {
      "cell_type": "markdown",
      "source": [
        "#C01:SELECTION OF BASE LEARNERS\n"
      ],
      "metadata": {
        "id": "1b8drYTpHP5O"
      },
      "id": "1b8drYTpHP5O"
    },
    {
      "cell_type": "markdown",
      "id": "64db7f1d",
      "metadata": {
        "papermill": {
          "duration": 0.085045,
          "end_time": "2021-10-22T19:46:12.886145",
          "exception": false,
          "start_time": "2021-10-22T19:46:12.801100",
          "status": "completed"
        },
        "tags": [],
        "id": "64db7f1d"
      },
      "source": [
        "###Logistic Regression\n"
      ]
    },
    {
      "cell_type": "code",
      "execution_count": null,
      "id": "ea396157",
      "metadata": {
        "execution": {
          "iopub.execute_input": "2021-10-22T19:46:13.245376Z",
          "iopub.status.busy": "2021-10-22T19:46:13.244565Z",
          "iopub.status.idle": "2021-10-22T19:46:13.593512Z",
          "shell.execute_reply": "2021-10-22T19:46:13.594139Z",
          "shell.execute_reply.started": "2021-10-22T19:39:38.295814Z"
        },
        "papermill": {
          "duration": 0.438613,
          "end_time": "2021-10-22T19:46:13.594316",
          "exception": false,
          "start_time": "2021-10-22T19:46:13.155703",
          "status": "completed"
        },
        "tags": [],
        "colab": {
          "base_uri": "https://localhost:8080/"
        },
        "id": "ea396157",
        "outputId": "0d46ba9c-bf12-4b56-a2de-d69ca5706635"
      },
      "outputs": [
        {
          "output_type": "stream",
          "name": "stdout",
          "text": [
            "LogisticRegression(max_iter=500)\n"
          ]
        }
      ],
      "source": [
        "# define the model\n",
        "log_model = LogisticRegression(penalty='l2', max_iter=500)\n",
        "\n",
        "# fit the model\n",
        "log_model= train_model(log_model, train_x,train_y)\n",
        "print(log_model)"
      ]
    },
    {
      "cell_type": "markdown",
      "metadata": {
        "papermill": {
          "duration": 0.113423,
          "end_time": "2021-10-22T19:46:31.714178",
          "exception": false,
          "start_time": "2021-10-22T19:46:31.600755",
          "status": "completed"
        },
        "tags": [],
        "id": "385b58df"
      },
      "source": [
        "## Naive Bayes Classifier"
      ],
      "id": "385b58df"
    },
    {
      "cell_type": "code",
      "execution_count": null,
      "metadata": {
        "execution": {
          "iopub.execute_input": "2021-10-22T19:46:31.936499Z",
          "iopub.status.busy": "2021-10-22T19:46:31.935686Z",
          "iopub.status.idle": "2021-10-22T19:46:32.228736Z",
          "shell.execute_reply": "2021-10-22T19:46:32.228046Z",
          "shell.execute_reply.started": "2021-10-22T19:39:52.412275Z"
        },
        "papermill": {
          "duration": 0.403758,
          "end_time": "2021-10-22T19:46:32.228882",
          "exception": false,
          "start_time": "2021-10-22T19:46:31.825124",
          "status": "completed"
        },
        "tags": [],
        "colab": {
          "base_uri": "https://localhost:8080/"
        },
        "id": "01512cdb",
        "outputId": "fe6982b6-455d-496d-eefe-ed09c90b6364"
      },
      "outputs": [
        {
          "output_type": "stream",
          "name": "stdout",
          "text": [
            "GaussianNB()\n"
          ]
        }
      ],
      "source": [
        "# define the model\n",
        "nb_model = GaussianNB()\n",
        "\n",
        "# fit the model\n",
        "nb_model= train_model(nb_model, train_x,train_y)\n",
        "print(nb_model)"
      ],
      "id": "01512cdb"
    },
    {
      "cell_type": "markdown",
      "id": "5869e693",
      "metadata": {
        "papermill": {
          "duration": 0.090172,
          "end_time": "2021-10-22T19:46:14.184888",
          "exception": false,
          "start_time": "2021-10-22T19:46:14.094716",
          "status": "completed"
        },
        "tags": [],
        "id": "5869e693"
      },
      "source": [
        "## Decision Tree Classifier\n"
      ]
    },
    {
      "cell_type": "code",
      "execution_count": null,
      "id": "8ae2735e",
      "metadata": {
        "execution": {
          "iopub.execute_input": "2021-10-22T19:46:14.371765Z",
          "iopub.status.busy": "2021-10-22T19:46:14.370763Z",
          "iopub.status.idle": "2021-10-22T19:46:15.408437Z",
          "shell.execute_reply": "2021-10-22T19:46:15.407887Z",
          "shell.execute_reply.started": "2021-10-22T19:39:39.073248Z"
        },
        "papermill": {
          "duration": 1.13079,
          "end_time": "2021-10-22T19:46:15.408608",
          "exception": false,
          "start_time": "2021-10-22T19:46:14.277818",
          "status": "completed"
        },
        "tags": [],
        "colab": {
          "base_uri": "https://localhost:8080/"
        },
        "id": "8ae2735e",
        "outputId": "06210d27-540a-4f21-f444-be14a5d6eb89"
      },
      "outputs": [
        {
          "output_type": "stream",
          "name": "stdout",
          "text": [
            "DecisionTreeClassifier(random_state=42)\n"
          ]
        }
      ],
      "source": [
        "# define the model\n",
        "dt_model = DecisionTreeClassifier(random_state=42)\n",
        "\n",
        "# fit the model\n",
        "dt_model = train_model(dt_model, train_x, train_y)\n",
        "print(dt_model)"
      ]
    },
    {
      "cell_type": "markdown",
      "source": [
        "#C02:Ensemble Learning - Meta heuristics"
      ],
      "metadata": {
        "id": "WI-YmTmRSFI2"
      },
      "id": "WI-YmTmRSFI2"
    },
    {
      "cell_type": "markdown",
      "source": [
        "###Majority or Hard Voting"
      ],
      "metadata": {
        "id": "Ke85EHycTUTl"
      },
      "id": "Ke85EHycTUTl"
    },
    {
      "cell_type": "code",
      "source": [
        "estimators=[('LogisticRegression',log_model),('Naives Bayes',nb_model),('Decision Tree',dt_model)]\n",
        "\n",
        "# define the model\n",
        "hard_model = VotingClassifier(estimators=estimators, voting ='hard')\n",
        "\n",
        "# fit and predict\n",
        "hard_model = train_model(hard_model, train_x, train_y)\n",
        "print(hard_model)"
      ],
      "metadata": {
        "colab": {
          "base_uri": "https://localhost:8080/"
        },
        "id": "nyb5XFS9SHxM",
        "outputId": "01d318be-824a-4a2e-eb44-a0b11cb82633"
      },
      "id": "nyb5XFS9SHxM",
      "execution_count": null,
      "outputs": [
        {
          "output_type": "stream",
          "name": "stdout",
          "text": [
            "VotingClassifier(estimators=[('LogisticRegression',\n",
            "                              LogisticRegression(max_iter=500)),\n",
            "                             ('Naives Bayes', GaussianNB()),\n",
            "                             ('Decision Tree',\n",
            "                              DecisionTreeClassifier(random_state=42))])\n"
          ]
        }
      ]
    },
    {
      "cell_type": "markdown",
      "id": "7cefdc93",
      "metadata": {
        "papermill": {
          "duration": 0.099441,
          "end_time": "2021-10-22T19:46:18.513109",
          "exception": false,
          "start_time": "2021-10-22T19:46:18.413668",
          "status": "completed"
        },
        "tags": [],
        "id": "7cefdc93"
      },
      "source": [
        "### Random Forest"
      ]
    },
    {
      "cell_type": "code",
      "execution_count": null,
      "id": "138ffc73",
      "metadata": {
        "execution": {
          "iopub.execute_input": "2021-10-22T19:46:18.720433Z",
          "iopub.status.busy": "2021-10-22T19:46:18.719734Z",
          "iopub.status.idle": "2021-10-22T19:46:19.726080Z",
          "shell.execute_reply": "2021-10-22T19:46:19.725424Z",
          "shell.execute_reply.started": "2021-10-22T19:39:41.514649Z"
        },
        "papermill": {
          "duration": 1.114853,
          "end_time": "2021-10-22T19:46:19.726222",
          "exception": false,
          "start_time": "2021-10-22T19:46:18.611369",
          "status": "completed"
        },
        "tags": [],
        "colab": {
          "base_uri": "https://localhost:8080/"
        },
        "id": "138ffc73",
        "outputId": "bb3726ce-3a0c-43e9-e290-7c41deef86e1"
      },
      "outputs": [
        {
          "output_type": "stream",
          "name": "stdout",
          "text": [
            "RandomForestClassifier(max_depth=100, min_samples_split=10, n_jobs=-1,\n",
            "                       random_state=2)\n"
          ]
        }
      ],
      "source": [
        "labels = df.Hazardous.unique()\n",
        "\n",
        "# define the model\n",
        "rf_model = RandomForestClassifier(n_estimators=100, max_depth=100, min_samples_split=10, n_jobs=-1, verbose=0, random_state=2)\n",
        "\n",
        "# fit the model\n",
        "rf_model = train_model(rf_model, train_x, train_y)\n",
        "print(rf_model)"
      ]
    },
    {
      "cell_type": "markdown",
      "id": "fa71cc3d",
      "metadata": {
        "papermill": {
          "duration": 0.100332,
          "end_time": "2021-10-22T19:46:20.357318",
          "exception": false,
          "start_time": "2021-10-22T19:46:20.256986",
          "status": "completed"
        },
        "tags": [],
        "id": "fa71cc3d"
      },
      "source": [
        "## Gradient Boosting"
      ]
    },
    {
      "cell_type": "code",
      "execution_count": null,
      "id": "f6cb4440",
      "metadata": {
        "execution": {
          "iopub.execute_input": "2021-10-22T19:46:20.563768Z",
          "iopub.status.busy": "2021-10-22T19:46:20.563024Z",
          "iopub.status.idle": "2021-10-22T19:46:23.366277Z",
          "shell.execute_reply": "2021-10-22T19:46:23.365693Z",
          "shell.execute_reply.started": "2021-10-22T19:39:42.970926Z"
        },
        "papermill": {
          "duration": 2.907765,
          "end_time": "2021-10-22T19:46:23.366415",
          "exception": false,
          "start_time": "2021-10-22T19:46:20.458650",
          "status": "completed"
        },
        "tags": [],
        "colab": {
          "base_uri": "https://localhost:8080/"
        },
        "id": "f6cb4440",
        "outputId": "4cc7cad1-aead-44a6-a48c-a2fae6a25782"
      },
      "outputs": [
        {
          "output_type": "stream",
          "name": "stdout",
          "text": [
            "GradientBoostingClassifier(max_depth=10, n_estimators=50, random_state=2)\n"
          ]
        }
      ],
      "source": [
        "# define the model\n",
        "gb_model = GradientBoostingClassifier(n_estimators=50, max_depth=10, random_state=2)\n",
        "\n",
        "# fit the model\n",
        "gb_model = train_model(gb_model, train_x, train_y)\n",
        "print(gb_model)"
      ]
    },
    {
      "cell_type": "markdown",
      "source": [
        "#C03:Dimensionality Reduction - PCA"
      ],
      "metadata": {
        "id": "IHlkRFUCT4r9"
      },
      "id": "IHlkRFUCT4r9"
    },
    {
      "cell_type": "code",
      "source": [
        "pca = PCA(n_components=10)\n",
        "train_x1 = pca.fit_transform(train_x)\n",
        "test_x1 = pca.transform(test_x)"
      ],
      "metadata": {
        "id": "u1FRceG2Vm44"
      },
      "id": "u1FRceG2Vm44",
      "execution_count": null,
      "outputs": []
    },
    {
      "cell_type": "markdown",
      "source": [
        "# Logistic Regression"
      ],
      "metadata": {
        "id": "Of1OBx6Cb9uv"
      },
      "id": "Of1OBx6Cb9uv"
    },
    {
      "cell_type": "code",
      "source": [
        "# define the model\n",
        "logpca_model = LogisticRegression(penalty='l2', max_iter=500)\n",
        "\n",
        "# fit the model\n",
        "logpca_model= train_model(logpca_model, train_x1,train_y)\n",
        "print(log_model)"
      ],
      "metadata": {
        "id": "DwPZCzv0b63G",
        "colab": {
          "base_uri": "https://localhost:8080/"
        },
        "outputId": "d1223553-df75-4538-9602-d5a2e7cf6b0f"
      },
      "id": "DwPZCzv0b63G",
      "execution_count": null,
      "outputs": [
        {
          "output_type": "stream",
          "name": "stdout",
          "text": [
            "LogisticRegression(max_iter=500)\n"
          ]
        }
      ]
    },
    {
      "cell_type": "markdown",
      "source": [
        "#C04:Building Artificial Netural Network(ANN)\n"
      ],
      "metadata": {
        "id": "CP97pi5GaMQ-"
      },
      "id": "CP97pi5GaMQ-"
    },
    {
      "cell_type": "code",
      "source": [
        "# Initializing the ANN\n",
        "ann = tf.keras.models.Sequential()\n",
        "# Adding the input layer and the first hidden layer\n",
        "ann.add(tf.keras.layers.Dense(units=6, activation='relu'))\n",
        "ann.add(tf.keras.layers.Dropout(0.2))\n",
        "# Adding the second hidden layer\n",
        "ann.add(tf.keras.layers.Dense(units=6, activation='relu'))\n",
        "ann.add(tf.keras.layers.Dropout(0.2))\n",
        "# Adding the output layer\n",
        "ann.add(tf.keras.layers.Dense(units=1, activation='sigmoid'))"
      ],
      "metadata": {
        "id": "2NudeBosfRs6"
      },
      "id": "2NudeBosfRs6",
      "execution_count": null,
      "outputs": []
    },
    {
      "cell_type": "code",
      "source": [
        "# Compiling the ANN\n",
        "ann.compile(optimizer = 'adam', loss = 'binary_crossentropy', metrics = ['accuracy'])\n",
        "\n",
        "# Training the ANN on the Training set\n",
        "model=ann.fit(train_x1, train_y, batch_size = 32, epochs = 100)\n"
      ],
      "metadata": {
        "colab": {
          "base_uri": "https://localhost:8080/"
        },
        "id": "_CHkpkm-fVsB",
        "outputId": "d80d5dcc-408e-47a9-e649-c9b93b440158"
      },
      "id": "_CHkpkm-fVsB",
      "execution_count": null,
      "outputs": [
        {
          "output_type": "stream",
          "name": "stdout",
          "text": [
            "Epoch 1/100\n",
            "118/118 [==============================] - 1s 4ms/step - loss: 0.5695 - accuracy: 0.7967\n",
            "Epoch 2/100\n",
            "118/118 [==============================] - 0s 4ms/step - loss: 0.4749 - accuracy: 0.8354\n",
            "Epoch 3/100\n",
            "118/118 [==============================] - 0s 4ms/step - loss: 0.4102 - accuracy: 0.8389\n",
            "Epoch 4/100\n",
            "118/118 [==============================] - 0s 4ms/step - loss: 0.3668 - accuracy: 0.8413\n",
            "Epoch 5/100\n",
            "118/118 [==============================] - 0s 4ms/step - loss: 0.3389 - accuracy: 0.8429\n",
            "Epoch 6/100\n",
            "118/118 [==============================] - 0s 4ms/step - loss: 0.3081 - accuracy: 0.8442\n",
            "Epoch 7/100\n",
            "118/118 [==============================] - 0s 4ms/step - loss: 0.3008 - accuracy: 0.8493\n",
            "Epoch 8/100\n",
            "118/118 [==============================] - 0s 4ms/step - loss: 0.2880 - accuracy: 0.8546\n",
            "Epoch 9/100\n",
            "118/118 [==============================] - 0s 4ms/step - loss: 0.2739 - accuracy: 0.8602\n",
            "Epoch 10/100\n",
            "118/118 [==============================] - 0s 4ms/step - loss: 0.2557 - accuracy: 0.8712\n",
            "Epoch 11/100\n",
            "118/118 [==============================] - 0s 4ms/step - loss: 0.2534 - accuracy: 0.8786\n",
            "Epoch 12/100\n",
            "118/118 [==============================] - 0s 4ms/step - loss: 0.2443 - accuracy: 0.8805\n",
            "Epoch 13/100\n",
            "118/118 [==============================] - 0s 4ms/step - loss: 0.2344 - accuracy: 0.8818\n",
            "Epoch 14/100\n",
            "118/118 [==============================] - 0s 4ms/step - loss: 0.2264 - accuracy: 0.8893\n",
            "Epoch 15/100\n",
            "118/118 [==============================] - 0s 4ms/step - loss: 0.2199 - accuracy: 0.8898\n",
            "Epoch 16/100\n",
            "118/118 [==============================] - 0s 4ms/step - loss: 0.2220 - accuracy: 0.8906\n",
            "Epoch 17/100\n",
            "118/118 [==============================] - 0s 4ms/step - loss: 0.2143 - accuracy: 0.8949\n",
            "Epoch 18/100\n",
            "118/118 [==============================] - 0s 4ms/step - loss: 0.2076 - accuracy: 0.8994\n",
            "Epoch 19/100\n",
            "118/118 [==============================] - 0s 4ms/step - loss: 0.2011 - accuracy: 0.9128\n",
            "Epoch 20/100\n",
            "118/118 [==============================] - 0s 4ms/step - loss: 0.1994 - accuracy: 0.9120\n",
            "Epoch 21/100\n",
            "118/118 [==============================] - 0s 4ms/step - loss: 0.1928 - accuracy: 0.9165\n",
            "Epoch 22/100\n",
            "118/118 [==============================] - 0s 4ms/step - loss: 0.1989 - accuracy: 0.9106\n",
            "Epoch 23/100\n",
            "118/118 [==============================] - 0s 4ms/step - loss: 0.2015 - accuracy: 0.9128\n",
            "Epoch 24/100\n",
            "118/118 [==============================] - 0s 4ms/step - loss: 0.1865 - accuracy: 0.9173\n",
            "Epoch 25/100\n",
            "118/118 [==============================] - 0s 4ms/step - loss: 0.2003 - accuracy: 0.9144\n",
            "Epoch 26/100\n",
            "118/118 [==============================] - 0s 4ms/step - loss: 0.1913 - accuracy: 0.9213\n",
            "Epoch 27/100\n",
            "118/118 [==============================] - 0s 4ms/step - loss: 0.1876 - accuracy: 0.9165\n",
            "Epoch 28/100\n",
            "118/118 [==============================] - 0s 4ms/step - loss: 0.1883 - accuracy: 0.9216\n",
            "Epoch 29/100\n",
            "118/118 [==============================] - 0s 4ms/step - loss: 0.1833 - accuracy: 0.9192\n",
            "Epoch 30/100\n",
            "118/118 [==============================] - 0s 4ms/step - loss: 0.1846 - accuracy: 0.9218\n",
            "Epoch 31/100\n",
            "118/118 [==============================] - 0s 4ms/step - loss: 0.1846 - accuracy: 0.9181\n",
            "Epoch 32/100\n",
            "118/118 [==============================] - 0s 4ms/step - loss: 0.1826 - accuracy: 0.9218\n",
            "Epoch 33/100\n",
            "118/118 [==============================] - 0s 3ms/step - loss: 0.1794 - accuracy: 0.9226\n",
            "Epoch 34/100\n",
            "118/118 [==============================] - 0s 4ms/step - loss: 0.1825 - accuracy: 0.9234\n",
            "Epoch 35/100\n",
            "118/118 [==============================] - 0s 4ms/step - loss: 0.1714 - accuracy: 0.9296\n",
            "Epoch 36/100\n",
            "118/118 [==============================] - 0s 4ms/step - loss: 0.1747 - accuracy: 0.9245\n",
            "Epoch 37/100\n",
            "118/118 [==============================] - 0s 4ms/step - loss: 0.1775 - accuracy: 0.9208\n",
            "Epoch 38/100\n",
            "118/118 [==============================] - 0s 4ms/step - loss: 0.1671 - accuracy: 0.9296\n",
            "Epoch 39/100\n",
            "118/118 [==============================] - 0s 4ms/step - loss: 0.1703 - accuracy: 0.9298\n",
            "Epoch 40/100\n",
            "118/118 [==============================] - 0s 4ms/step - loss: 0.1696 - accuracy: 0.9248\n",
            "Epoch 41/100\n",
            "118/118 [==============================] - 0s 4ms/step - loss: 0.1672 - accuracy: 0.9304\n",
            "Epoch 42/100\n",
            "118/118 [==============================] - 0s 4ms/step - loss: 0.1686 - accuracy: 0.9325\n",
            "Epoch 43/100\n",
            "118/118 [==============================] - 0s 4ms/step - loss: 0.1649 - accuracy: 0.9298\n",
            "Epoch 44/100\n",
            "118/118 [==============================] - 0s 4ms/step - loss: 0.1633 - accuracy: 0.9330\n",
            "Epoch 45/100\n",
            "118/118 [==============================] - 0s 4ms/step - loss: 0.1693 - accuracy: 0.9325\n",
            "Epoch 46/100\n",
            "118/118 [==============================] - 0s 4ms/step - loss: 0.1689 - accuracy: 0.9261\n",
            "Epoch 47/100\n",
            "118/118 [==============================] - 0s 4ms/step - loss: 0.1653 - accuracy: 0.9282\n",
            "Epoch 48/100\n",
            "118/118 [==============================] - 0s 4ms/step - loss: 0.1619 - accuracy: 0.9325\n",
            "Epoch 49/100\n",
            "118/118 [==============================] - 0s 4ms/step - loss: 0.1682 - accuracy: 0.9253\n",
            "Epoch 50/100\n",
            "118/118 [==============================] - 0s 4ms/step - loss: 0.1641 - accuracy: 0.9333\n",
            "Epoch 51/100\n",
            "118/118 [==============================] - 0s 4ms/step - loss: 0.1560 - accuracy: 0.9312\n",
            "Epoch 52/100\n",
            "118/118 [==============================] - 0s 4ms/step - loss: 0.1544 - accuracy: 0.9373\n",
            "Epoch 53/100\n",
            "118/118 [==============================] - 0s 4ms/step - loss: 0.1537 - accuracy: 0.9387\n",
            "Epoch 54/100\n",
            "118/118 [==============================] - 0s 4ms/step - loss: 0.1619 - accuracy: 0.9304\n",
            "Epoch 55/100\n",
            "118/118 [==============================] - 0s 4ms/step - loss: 0.1498 - accuracy: 0.9346\n",
            "Epoch 56/100\n",
            "118/118 [==============================] - 0s 4ms/step - loss: 0.1511 - accuracy: 0.9381\n",
            "Epoch 57/100\n",
            "118/118 [==============================] - 0s 4ms/step - loss: 0.1501 - accuracy: 0.9333\n",
            "Epoch 58/100\n",
            "118/118 [==============================] - 0s 4ms/step - loss: 0.1562 - accuracy: 0.9314\n",
            "Epoch 59/100\n",
            "118/118 [==============================] - 0s 4ms/step - loss: 0.1518 - accuracy: 0.9368\n",
            "Epoch 60/100\n",
            "118/118 [==============================] - 0s 4ms/step - loss: 0.1593 - accuracy: 0.9320\n",
            "Epoch 61/100\n",
            "118/118 [==============================] - 0s 4ms/step - loss: 0.1471 - accuracy: 0.9376\n",
            "Epoch 62/100\n",
            "118/118 [==============================] - 0s 4ms/step - loss: 0.1458 - accuracy: 0.9395\n",
            "Epoch 63/100\n",
            "118/118 [==============================] - 0s 4ms/step - loss: 0.1529 - accuracy: 0.9336\n",
            "Epoch 64/100\n",
            "118/118 [==============================] - 0s 4ms/step - loss: 0.1528 - accuracy: 0.9365\n",
            "Epoch 65/100\n",
            "118/118 [==============================] - 0s 4ms/step - loss: 0.1475 - accuracy: 0.9362\n",
            "Epoch 66/100\n",
            "118/118 [==============================] - 0s 4ms/step - loss: 0.1515 - accuracy: 0.9389\n",
            "Epoch 67/100\n",
            "118/118 [==============================] - 0s 4ms/step - loss: 0.1523 - accuracy: 0.9365\n",
            "Epoch 68/100\n",
            "118/118 [==============================] - 0s 4ms/step - loss: 0.1438 - accuracy: 0.9387\n",
            "Epoch 69/100\n",
            "118/118 [==============================] - 0s 4ms/step - loss: 0.1485 - accuracy: 0.9360\n",
            "Epoch 70/100\n",
            "118/118 [==============================] - 0s 4ms/step - loss: 0.1477 - accuracy: 0.9330\n",
            "Epoch 71/100\n",
            "118/118 [==============================] - 0s 4ms/step - loss: 0.1494 - accuracy: 0.9336\n",
            "Epoch 72/100\n",
            "118/118 [==============================] - 0s 4ms/step - loss: 0.1495 - accuracy: 0.9357\n",
            "Epoch 73/100\n",
            "118/118 [==============================] - 0s 4ms/step - loss: 0.1457 - accuracy: 0.9360\n",
            "Epoch 74/100\n",
            "118/118 [==============================] - 0s 4ms/step - loss: 0.1540 - accuracy: 0.9320\n",
            "Epoch 75/100\n",
            "118/118 [==============================] - 0s 4ms/step - loss: 0.1539 - accuracy: 0.9325\n",
            "Epoch 76/100\n",
            "118/118 [==============================] - 0s 4ms/step - loss: 0.1465 - accuracy: 0.9400\n",
            "Epoch 77/100\n",
            "118/118 [==============================] - 0s 4ms/step - loss: 0.1513 - accuracy: 0.9354\n",
            "Epoch 78/100\n",
            "118/118 [==============================] - 0s 4ms/step - loss: 0.1403 - accuracy: 0.9424\n",
            "Epoch 79/100\n",
            "118/118 [==============================] - 0s 4ms/step - loss: 0.1535 - accuracy: 0.9368\n",
            "Epoch 80/100\n",
            "118/118 [==============================] - 0s 4ms/step - loss: 0.1467 - accuracy: 0.9381\n",
            "Epoch 81/100\n",
            "118/118 [==============================] - 0s 4ms/step - loss: 0.1460 - accuracy: 0.9408\n",
            "Epoch 82/100\n",
            "118/118 [==============================] - 0s 4ms/step - loss: 0.1439 - accuracy: 0.9389\n",
            "Epoch 83/100\n",
            "118/118 [==============================] - 0s 4ms/step - loss: 0.1481 - accuracy: 0.9403\n",
            "Epoch 84/100\n",
            "118/118 [==============================] - 0s 4ms/step - loss: 0.1436 - accuracy: 0.9405\n",
            "Epoch 85/100\n",
            "118/118 [==============================] - 0s 4ms/step - loss: 0.1442 - accuracy: 0.9352\n",
            "Epoch 86/100\n",
            "118/118 [==============================] - 0s 4ms/step - loss: 0.1450 - accuracy: 0.9413\n",
            "Epoch 87/100\n",
            "118/118 [==============================] - 0s 4ms/step - loss: 0.1403 - accuracy: 0.9376\n",
            "Epoch 88/100\n",
            "118/118 [==============================] - 0s 4ms/step - loss: 0.1505 - accuracy: 0.9381\n",
            "Epoch 89/100\n",
            "118/118 [==============================] - 0s 4ms/step - loss: 0.1468 - accuracy: 0.9405\n",
            "Epoch 90/100\n",
            "118/118 [==============================] - 0s 4ms/step - loss: 0.1441 - accuracy: 0.9379\n",
            "Epoch 91/100\n",
            "118/118 [==============================] - 0s 4ms/step - loss: 0.1419 - accuracy: 0.9392\n",
            "Epoch 92/100\n",
            "118/118 [==============================] - 0s 4ms/step - loss: 0.1464 - accuracy: 0.9384\n",
            "Epoch 93/100\n",
            "118/118 [==============================] - 0s 4ms/step - loss: 0.1430 - accuracy: 0.9357\n",
            "Epoch 94/100\n",
            "118/118 [==============================] - 0s 4ms/step - loss: 0.1467 - accuracy: 0.9381\n",
            "Epoch 95/100\n",
            "118/118 [==============================] - 0s 4ms/step - loss: 0.1444 - accuracy: 0.9381\n",
            "Epoch 96/100\n",
            "118/118 [==============================] - 0s 4ms/step - loss: 0.1413 - accuracy: 0.9338\n",
            "Epoch 97/100\n",
            "118/118 [==============================] - 0s 4ms/step - loss: 0.1425 - accuracy: 0.9376\n",
            "Epoch 98/100\n",
            "118/118 [==============================] - 0s 4ms/step - loss: 0.1437 - accuracy: 0.9379\n",
            "Epoch 99/100\n",
            "118/118 [==============================] - 0s 4ms/step - loss: 0.1393 - accuracy: 0.9440\n",
            "Epoch 100/100\n",
            "118/118 [==============================] - 0s 4ms/step - loss: 0.1394 - accuracy: 0.9373\n"
          ]
        }
      ]
    },
    {
      "cell_type": "markdown",
      "source": [
        "#C05:Comparison of Performance"
      ],
      "metadata": {
        "id": "ax5YUS2njL7O"
      },
      "id": "ax5YUS2njL7O"
    },
    {
      "cell_type": "markdown",
      "source": [
        "##Logistic Regression"
      ],
      "metadata": {
        "id": "w9whkwzQjXCo"
      },
      "id": "w9whkwzQjXCo"
    },
    {
      "cell_type": "code",
      "source": [
        "st_time = time.time()\n",
        "predictions, log_accuracy, metrics_report, log_prf = test_model(log_model, test_x, test_y)\n",
        "en_time = time.time()\n",
        "print('Total time: {:.2f}s'.format(en_time-st_time))\n",
        "print('accuracy: {}'.format(log_accuracy))\n",
        "print('='*100)\n",
        "print(metrics_report)\n",
        "plot_confusion_matrix(log_model, test_x, test_y, display_labels=labels, xticks_rotation='vertical', cmap=\"BuPu\")"
      ],
      "metadata": {
        "colab": {
          "base_uri": "https://localhost:8080/",
          "height": 521
        },
        "id": "4Ju0DDX_jcBE",
        "outputId": "79301fef-2be6-45c5-bb0a-00a14b1f0ff2"
      },
      "id": "4Ju0DDX_jcBE",
      "execution_count": null,
      "outputs": [
        {
          "output_type": "stream",
          "name": "stdout",
          "text": [
            "Total time: 0.02s\n",
            "accuracy: 0.9594882729211087\n",
            "====================================================================================================\n",
            "              precision    recall  f1-score   support\n",
            "\n",
            "       False       0.97      0.98      0.98       784\n",
            "        True       0.91      0.84      0.87       154\n",
            "\n",
            "    accuracy                           0.96       938\n",
            "   macro avg       0.94      0.91      0.92       938\n",
            "weighted avg       0.96      0.96      0.96       938\n",
            "\n"
          ]
        },
        {
          "output_type": "execute_result",
          "data": {
            "text/plain": [
              "<sklearn.metrics._plot.confusion_matrix.ConfusionMatrixDisplay at 0x7fa3d80c4a10>"
            ]
          },
          "metadata": {},
          "execution_count": 83
        },
        {
          "output_type": "display_data",
          "data": {
            "image/png": "[encoded data removed]",
            "text/plain": [
              "<Figure size 432x288 with 2 Axes>"
            ]
          },
          "metadata": {
            "needs_background": "light"
          }
        }
      ]
    },
    {
      "cell_type": "markdown",
      "source": [
        "##Logistic Regression - PCA"
      ],
      "metadata": {
        "id": "FaTtTMHXgLCx"
      },
      "id": "FaTtTMHXgLCx"
    },
    {
      "cell_type": "code",
      "source": [
        "st_time = time.time()\n",
        "predictionspca, logpca_accuracy, metrics_reportpca, logpca_prf = test_model(logpca_model, test_x1, test_y)\n",
        "en_time = time.time()\n",
        "print('Total time: {:.2f}s'.format(en_time-st_time))\n",
        "print('accuracy: {}'.format(logpca_accuracy))\n",
        "print('='*100)\n",
        "print(metrics_reportpca)\n",
        "plot_confusion_matrix(logpca_model, test_x1, test_y, display_labels=labels, xticks_rotation='vertical', cmap=\"BuPu\")"
      ],
      "metadata": {
        "colab": {
          "base_uri": "https://localhost:8080/",
          "height": 521
        },
        "outputId": "5e3b0887-4585-48bc-e50f-b8555e8813bb",
        "id": "2QgCgr_EgLCz"
      },
      "execution_count": null,
      "outputs": [
        {
          "output_type": "stream",
          "name": "stdout",
          "text": [
            "Total time: 0.02s\n",
            "accuracy: 0.894456289978678\n",
            "====================================================================================================\n",
            "              precision    recall  f1-score   support\n",
            "\n",
            "       False       0.92      0.96      0.94       784\n",
            "        True       0.74      0.55      0.63       154\n",
            "\n",
            "    accuracy                           0.89       938\n",
            "   macro avg       0.83      0.76      0.79       938\n",
            "weighted avg       0.89      0.89      0.89       938\n",
            "\n"
          ]
        },
        {
          "output_type": "execute_result",
          "data": {
            "text/plain": [
              "<sklearn.metrics._plot.confusion_matrix.ConfusionMatrixDisplay at 0x7fa3d7f0bcd0>"
            ]
          },
          "metadata": {},
          "execution_count": 84
        },
        {
          "output_type": "display_data",
          "data": {
            "image/png": "[encoded data removed]",
            "text/plain": [
              "<Figure size 432x288 with 2 Axes>"
            ]
          },
          "metadata": {
            "needs_background": "light"
          }
        }
      ],
      "id": "2QgCgr_EgLCz"
    },
    {
      "cell_type": "markdown",
      "source": [
        "##Naive Bayes"
      ],
      "metadata": {
        "id": "Epq8tn4OzWtY"
      },
      "id": "Epq8tn4OzWtY"
    },
    {
      "cell_type": "code",
      "source": [
        "st_time = time.time()\n",
        "predictions, nb_accuracy, metrics_report, nb_prf = test_model(nb_model, test_x, test_y)\n",
        "en_time = time.time()\n",
        "print('Total time: {:.2f}s'.format(en_time-st_time))\n",
        "print('accuracy: {}'.format(nb_accuracy))\n",
        "print('='*100)\n",
        "print(metrics_report)\n",
        "plot_confusion_matrix(nb_model, test_x, test_y, display_labels=labels, xticks_rotation='vertical', cmap=\"BuPu\")"
      ],
      "metadata": {
        "colab": {
          "base_uri": "https://localhost:8080/",
          "height": 521
        },
        "outputId": "40cd99df-7c73-4035-e7bc-1a8abc5a2571",
        "id": "nlUQmpRszWtc"
      },
      "execution_count": null,
      "outputs": [
        {
          "output_type": "stream",
          "name": "stdout",
          "text": [
            "Total time: 0.01s\n",
            "accuracy: 0.9477611940298507\n",
            "====================================================================================================\n",
            "              precision    recall  f1-score   support\n",
            "\n",
            "       False       0.97      0.97      0.97       784\n",
            "        True       0.83      0.85      0.84       154\n",
            "\n",
            "    accuracy                           0.95       938\n",
            "   macro avg       0.90      0.91      0.91       938\n",
            "weighted avg       0.95      0.95      0.95       938\n",
            "\n"
          ]
        },
        {
          "output_type": "execute_result",
          "data": {
            "text/plain": [
              "<sklearn.metrics._plot.confusion_matrix.ConfusionMatrixDisplay at 0x7fa3d7f15e50>"
            ]
          },
          "metadata": {},
          "execution_count": 85
        },
        {
          "output_type": "display_data",
          "data": {
            "image/png": "[encoded data removed]",
            "text/plain": [
              "<Figure size 432x288 with 2 Axes>"
            ]
          },
          "metadata": {
            "needs_background": "light"
          }
        }
      ],
      "id": "nlUQmpRszWtc"
    },
    {
      "cell_type": "markdown",
      "source": [
        "##Decision Tree Classiier"
      ],
      "metadata": {
        "id": "9x3gEKHFzqMi"
      },
      "id": "9x3gEKHFzqMi"
    },
    {
      "cell_type": "code",
      "source": [
        "st_time = time.time()\n",
        "predictions, dt_accuracy, metrics_report, dt_prf = test_model(dt_model, test_x, test_y)\n",
        "en_time = time.time()\n",
        "print('Total time: {:.2f}s'.format(en_time-st_time))\n",
        "print('accuracy: {}'.format(dt_accuracy))\n",
        "print('='*100)\n",
        "print(metrics_report)\n",
        "plot_confusion_matrix(dt_model, test_x, test_y, display_labels=labels, xticks_rotation='vertical', cmap=\"BuPu\")"
      ],
      "metadata": {
        "colab": {
          "base_uri": "https://localhost:8080/",
          "height": 521
        },
        "outputId": "c170f6f4-b42d-4170-ea54-6ec20312f097",
        "id": "3B40eG2szqMk"
      },
      "execution_count": null,
      "outputs": [
        {
          "output_type": "stream",
          "name": "stdout",
          "text": [
            "Total time: 0.01s\n",
            "accuracy: 0.9957356076759062\n",
            "====================================================================================================\n",
            "              precision    recall  f1-score   support\n",
            "\n",
            "       False       1.00      1.00      1.00       784\n",
            "        True       0.99      0.98      0.99       154\n",
            "\n",
            "    accuracy                           1.00       938\n",
            "   macro avg       0.99      0.99      0.99       938\n",
            "weighted avg       1.00      1.00      1.00       938\n",
            "\n"
          ]
        },
        {
          "output_type": "execute_result",
          "data": {
            "text/plain": [
              "<sklearn.metrics._plot.confusion_matrix.ConfusionMatrixDisplay at 0x7fa3d802b110>"
            ]
          },
          "metadata": {},
          "execution_count": 86
        },
        {
          "output_type": "display_data",
          "data": {
            "image/png": "[encoded data removed]",
            "text/plain": [
              "<Figure size 432x288 with 2 Axes>"
            ]
          },
          "metadata": {
            "needs_background": "light"
          }
        }
      ],
      "id": "3B40eG2szqMk"
    },
    {
      "cell_type": "markdown",
      "source": [
        "##Random Forest Classifier"
      ],
      "metadata": {
        "id": "MN7PyN5J1eqy"
      },
      "id": "MN7PyN5J1eqy"
    },
    {
      "cell_type": "code",
      "source": [
        "st_time = time.time()\n",
        "predictions, rf_accuracy, metrics_report, rf_prf = test_model(rf_model, test_x, test_y)\n",
        "en_time = time.time()\n",
        "print('Total time: {:.2f}s'.format(en_time-st_time))\n",
        "print('accuracy: {}'.format(rf_accuracy))\n",
        "print('='*100)\n",
        "print(metrics_report)\n",
        "plot_confusion_matrix(rf_model, test_x, test_y, display_labels=labels, xticks_rotation='vertical', cmap=\"BuPu\")"
      ],
      "metadata": {
        "colab": {
          "base_uri": "https://localhost:8080/",
          "height": 521
        },
        "outputId": "a1d03d80-ad3f-4024-93a9-30546c8cb6a0",
        "id": "h01yP0f-1eq0"
      },
      "execution_count": null,
      "outputs": [
        {
          "output_type": "stream",
          "name": "stdout",
          "text": [
            "Total time: 0.22s\n",
            "accuracy: 0.9968017057569296\n",
            "====================================================================================================\n",
            "              precision    recall  f1-score   support\n",
            "\n",
            "       False       1.00      1.00      1.00       784\n",
            "        True       0.99      0.99      0.99       154\n",
            "\n",
            "    accuracy                           1.00       938\n",
            "   macro avg       1.00      0.99      0.99       938\n",
            "weighted avg       1.00      1.00      1.00       938\n",
            "\n"
          ]
        },
        {
          "output_type": "execute_result",
          "data": {
            "text/plain": [
              "<sklearn.metrics._plot.confusion_matrix.ConfusionMatrixDisplay at 0x7fa3d7d6fa50>"
            ]
          },
          "metadata": {},
          "execution_count": 87
        },
        {
          "output_type": "display_data",
          "data": {
            "image/png": "[encoded data removed]",
            "text/plain": [
              "<Figure size 432x288 with 2 Axes>"
            ]
          },
          "metadata": {
            "needs_background": "light"
          }
        }
      ],
      "id": "h01yP0f-1eq0"
    },
    {
      "cell_type": "markdown",
      "source": [
        "##Hard Voting Classifier"
      ],
      "metadata": {
        "id": "tKoswVQZ1uww"
      },
      "id": "tKoswVQZ1uww"
    },
    {
      "cell_type": "code",
      "source": [
        "st_time = time.time()\n",
        "predictions, hard_accuracy, metrics_report, hard_prf = test_model(hard_model, test_x, test_y)\n",
        "en_time = time.time()\n",
        "print('Total time: {:.2f}s'.format(en_time-st_time))\n",
        "print('accuracy: {}'.format(hard_accuracy))\n",
        "print('='*100)\n",
        "print(metrics_report)\n",
        "plot_confusion_matrix(hard_model, test_x, test_y, display_labels=labels, xticks_rotation='vertical', cmap=\"BuPu\")"
      ],
      "metadata": {
        "colab": {
          "base_uri": "https://localhost:8080/",
          "height": 521
        },
        "outputId": "bef53083-9781-4644-ad5d-530e55a5d760",
        "id": "OU3d5wvn1uwx"
      },
      "execution_count": null,
      "outputs": [
        {
          "output_type": "stream",
          "name": "stdout",
          "text": [
            "Total time: 0.05s\n",
            "accuracy: 0.9744136460554371\n",
            "====================================================================================================\n",
            "              precision    recall  f1-score   support\n",
            "\n",
            "       False       0.98      0.99      0.98       784\n",
            "        True       0.94      0.90      0.92       154\n",
            "\n",
            "    accuracy                           0.97       938\n",
            "   macro avg       0.96      0.95      0.95       938\n",
            "weighted avg       0.97      0.97      0.97       938\n",
            "\n"
          ]
        },
        {
          "output_type": "execute_result",
          "data": {
            "text/plain": [
              "<sklearn.metrics._plot.confusion_matrix.ConfusionMatrixDisplay at 0x7fa3d7c7c390>"
            ]
          },
          "metadata": {},
          "execution_count": 88
        },
        {
          "output_type": "display_data",
          "data": {
            "image/png": "[encoded data removed]",
            "text/plain": [
              "<Figure size 432x288 with 2 Axes>"
            ]
          },
          "metadata": {
            "needs_background": "light"
          }
        }
      ],
      "id": "OU3d5wvn1uwx"
    },
    {
      "cell_type": "markdown",
      "source": [
        "##Gradient Boosting"
      ],
      "metadata": {
        "id": "favbmZguYm1S"
      },
      "id": "favbmZguYm1S"
    },
    {
      "cell_type": "code",
      "source": [
        "st_time = time.time()\n",
        "predictions, gb_accuracy, metrics_report, gb_prf = test_model(gb_model, test_x, test_y)\n",
        "en_time = time.time()\n",
        "print('Total time: {:.2f}s'.format(en_time-st_time))\n",
        "print('accuracy: {}'.format(gb_accuracy))\n",
        "print('='*100)\n",
        "print(metrics_report)\n",
        "plot_confusion_matrix(gb_model, test_x, test_y, display_labels=labels, xticks_rotation='vertical', cmap=\"BuPu\")\n",
        "print('='*100)\n",
        "print(\"Applying cross validation\")\n",
        "# evaluate the model\n",
        "cv = RepeatedStratifiedKFold(n_splits=10, n_repeats=3, random_state=1)\n",
        "n_scores = cross_val_score(gb_model, train_x, train_y, scoring='accuracy', cv=cv, n_jobs=-1, error_score='raise')\n",
        "# report performance\n",
        "print('accuracy: {}'.format((n_scores.sum())/len(n_scores)))\n",
        "print(classification_report(test_y,gb_model.predict(test_x)))"
      ],
      "metadata": {
        "colab": {
          "base_uri": "https://localhost:8080/",
          "height": 712
        },
        "outputId": "4dcc8fae-0d9a-4cab-8326-390aba363c6f",
        "id": "9AdE13t_Ym1Y"
      },
      "execution_count": null,
      "outputs": [
        {
          "output_type": "stream",
          "name": "stdout",
          "text": [
            "Total time: 0.02s\n",
            "accuracy: 0.9968017057569296\n",
            "====================================================================================================\n",
            "              precision    recall  f1-score   support\n",
            "\n",
            "       False       1.00      1.00      1.00       784\n",
            "        True       0.99      0.99      0.99       154\n",
            "\n",
            "    accuracy                           1.00       938\n",
            "   macro avg       1.00      0.99      0.99       938\n",
            "weighted avg       1.00      1.00      1.00       938\n",
            "\n",
            "====================================================================================================\n",
            "Applying cross validation\n",
            "accuracy: 0.9959988116458706\n",
            "              precision    recall  f1-score   support\n",
            "\n",
            "       False       1.00      1.00      1.00       784\n",
            "        True       0.99      0.99      0.99       154\n",
            "\n",
            "    accuracy                           1.00       938\n",
            "   macro avg       1.00      0.99      0.99       938\n",
            "weighted avg       1.00      1.00      1.00       938\n",
            "\n"
          ]
        },
        {
          "output_type": "display_data",
          "data": {
            "image/png": "[encoded data removed]",
            "text/plain": [
              "<Figure size 432x288 with 2 Axes>"
            ]
          },
          "metadata": {
            "needs_background": "light"
          }
        }
      ],
      "id": "9AdE13t_Ym1Y"
    },
    {
      "cell_type": "markdown",
      "source": [
        "#ANN"
      ],
      "metadata": {
        "id": "JbCHBR5vjbGK"
      },
      "id": "JbCHBR5vjbGK"
    },
    {
      "cell_type": "code",
      "source": [
        "# Predicting the Test set results\n",
        "st_time = time.time()\n",
        "y_pred = ann.predict(test_x1)\n",
        "en_time = time.time()\n",
        "y_pred = (y_pred > 0.5)\n",
        "ann_accuracy = accuracy_score(y_pred, test_y)\n",
        "metrics_report = classification_report(test_y, y_pred)\n",
        "precision, recall, fscore, train_support = score(test_y, y_pred, average='weighted')\n",
        "ann_prf =(precision, recall, fscore)\n",
        "print('Total time: {:.2f}s'.format(en_time-st_time))\n",
        "print('accuracy: {}'.format(ann_accuracy))\n",
        "print('='*100)\n",
        "print(metrics_report)\n",
        "cm=confusion_matrix(test_y,y_pred)\n",
        "sns.heatmap(cm, annot=True, fmt='d',cmap=\"BuPu\")\n"
      ],
      "metadata": {
        "colab": {
          "base_uri": "https://localhost:8080/",
          "height": 491
        },
        "id": "Gvipshc5fmEd",
        "outputId": "58a7944a-ba46-4011-9e3d-6cc0e2ddd141"
      },
      "id": "Gvipshc5fmEd",
      "execution_count": null,
      "outputs": [
        {
          "output_type": "stream",
          "name": "stdout",
          "text": [
            "Total time: 0.15s\n",
            "accuracy: 0.9520255863539445\n",
            "====================================================================================================\n",
            "              precision    recall  f1-score   support\n",
            "\n",
            "       False       0.97      0.97      0.97       784\n",
            "        True       0.86      0.85      0.85       154\n",
            "\n",
            "    accuracy                           0.95       938\n",
            "   macro avg       0.91      0.91      0.91       938\n",
            "weighted avg       0.95      0.95      0.95       938\n",
            "\n"
          ]
        },
        {
          "output_type": "execute_result",
          "data": {
            "text/plain": [
              "<matplotlib.axes._subplots.AxesSubplot at 0x7fa3d7a573d0>"
            ]
          },
          "metadata": {},
          "execution_count": 90
        },
        {
          "output_type": "display_data",
          "data": {
            "image/png": "[encoded data removed]",
            "text/plain": [
              "<Figure size 432x288 with 2 Axes>"
            ]
          },
          "metadata": {
            "needs_background": "light"
          }
        }
      ]
    },
    {
      "cell_type": "markdown",
      "id": "9db2a91d",
      "metadata": {
        "papermill": {
          "duration": 0.113904,
          "end_time": "2021-10-22T19:46:36.913060",
          "exception": false,
          "start_time": "2021-10-22T19:46:36.799156",
          "status": "completed"
        },
        "tags": [],
        "id": "9db2a91d"
      },
      "source": [
        "# Model Evaluation"
      ]
    },
    {
      "cell_type": "code",
      "execution_count": null,
      "id": "01943c73",
      "metadata": {
        "execution": {
          "iopub.execute_input": "2021-10-22T19:46:37.145559Z",
          "iopub.status.busy": "2021-10-22T19:46:37.144572Z",
          "iopub.status.idle": "2021-10-22T19:46:37.386954Z",
          "shell.execute_reply": "2021-10-22T19:46:37.386385Z",
          "shell.execute_reply.started": "2021-10-22T19:39:57.584067Z"
        },
        "papermill": {
          "duration": 0.358804,
          "end_time": "2021-10-22T19:46:37.387111",
          "exception": false,
          "start_time": "2021-10-22T19:46:37.028307",
          "status": "completed"
        },
        "tags": [],
        "colab": {
          "base_uri": "https://localhost:8080/",
          "height": 279
        },
        "id": "01943c73",
        "outputId": "440fc1ae-137c-4f41-c22b-a34c6b98064a"
      },
      "outputs": [
        {
          "output_type": "display_data",
          "data": {
            "image/png": "[encoded data removed]",
            "text/plain": [
              "<Figure size 432x288 with 1 Axes>"
            ]
          },
          "metadata": {
            "needs_background": "light"
          }
        }
      ],
      "source": [
        "# classification matric indices\n",
        "xx = np.array([1,2,3])\n",
        "width = 0.1\n",
        "gb_prf = np.array([0.83, 0.83, 0.83])\n",
        "ax = plt.subplot(111)\n",
        "ax.bar( xx - width, height=np.array(nb_prf), width=width, color='b', align='center', label='NB', tick_label=['Precision', 'Recall', 'f1'])\n",
        "ax.bar(xx ,height=np.array(gb_prf), width=width, color='g', align='center', label='Gradient Boosting')\n",
        "ax.bar(xx + width, height=np.array(log_prf), width=width, color='r', align='center', label='Logistic Regression')\n",
        "ax.bar(xx + 2*width, height=np.array(dt_prf), width=width, color='y', align='center', label='DecisionTree Classifier')\n",
        "ax.bar(xx + 3*width, height=np.array(rf_prf), width=width, color='black', align='center', label='Random Forest')\n",
        "ax.bar(xx + 4*width, height=np.array(hard_prf), width=width, color='orange', align='center', label='Hard Voting')\n",
        "ax.bar(xx + 5*width, height=np.array(log_prf), width=width, color='violet', align='center', label='ANN')\n",
        "\n",
        "\n",
        "plt.xlabel('Classification Metrics')\n",
        "plt.ylabel('Scores')\n",
        "plt.legend(loc='lower right')\n",
        "plt.show()"
      ]
    },
    {
      "cell_type": "code",
      "source": [
        "cl_metric = pd.DataFrame(data = {\"Models\":[],\"Precision\":[],\"recall\":[],\"f1-score\":[],\"accuracy_score\":[]})\n",
        "prfs=[(\"Logistic Regression\",log_prf),(\"Logistic Regression PCA\",logpca_prf),(\"Naive Bayes\",nb_prf),(\"Decision Tree\",dt_prf),(\"Majority Voting\",hard_prf),(\"Random Forest\",rf_prf),(\"Gradient Boosting\",tuple(gb_prf)),(\"ANN\",ann_prf)]\n",
        "names=[]\n",
        "pre=[]\n",
        "rec=[]\n",
        "f1=[]\n",
        "ac=[log_accuracy,logpca_accuracy,nb_accuracy,dt_accuracy,hard_accuracy,rf_accuracy,gb_accuracy,ann_accuracy]\n",
        "for name,(p,r,f) in prfs:\n",
        "  names.append(name)\n",
        "  pre.append(p)\n",
        "  rec.append(r)\n",
        "  f1.append(f)\n",
        "cl_metric[\"Models\"]=names\n",
        "cl_metric[\"Precision\"]=pre\n",
        "cl_metric[\"recall\"]=rec\n",
        "cl_metric[\"f1-score\"]=f1\n",
        "cl_metric[\"accuracy_score\"]=ac"
      ],
      "metadata": {
        "id": "cW4k1SY18KaC"
      },
      "id": "cW4k1SY18KaC",
      "execution_count": null,
      "outputs": []
    },
    {
      "cell_type": "code",
      "source": [
        "display(cl_metric)"
      ],
      "metadata": {
        "colab": {
          "base_uri": "https://localhost:8080/",
          "height": 300
        },
        "id": "TYScSRz7843I",
        "outputId": "e24701a7-1684-45d2-f15f-2bd57c9801f5"
      },
      "id": "TYScSRz7843I",
      "execution_count": null,
      "outputs": [
        {
          "output_type": "display_data",
          "data": {
            "text/html": [
              "\n",
              "  <div id=\"df-8a161493-fb5b-4fab-9a1e-06c66a3a75ce\">\n",
              "    <div class=\"colab-df-container\">\n",
              "      <div>\n",
              "<style scoped>\n",
              "    .dataframe tbody tr th:only-of-type {\n",
              "        vertical-align: middle;\n",
              "    }\n",
              "\n",
              "    .dataframe tbody tr th {\n",
              "        vertical-align: top;\n",
              "    }\n",
              "\n",
              "    .dataframe thead th {\n",
              "        text-align: right;\n",
              "    }\n",
              "</style>\n",
              "<table border=\"1\" class=\"dataframe\">\n",
              "  <thead>\n",
              "    <tr style=\"text-align: right;\">\n",
              "      <th></th>\n",
              "      <th>Models</th>\n",
              "      <th>Precision</th>\n",
              "      <th>recall</th>\n",
              "      <th>f1-score</th>\n",
              "      <th>accuracy_score</th>\n",
              "    </tr>\n",
              "  </thead>\n",
              "  <tbody>\n",
              "    <tr>\n",
              "      <th>0</th>\n",
              "      <td>Logistic Regression</td>\n",
              "      <td>0.958719</td>\n",
              "      <td>0.959488</td>\n",
              "      <td>0.958821</td>\n",
              "      <td>0.959488</td>\n",
              "    </tr>\n",
              "    <tr>\n",
              "      <th>1</th>\n",
              "      <td>Logistic Regression PCA</td>\n",
              "      <td>0.887096</td>\n",
              "      <td>0.894456</td>\n",
              "      <td>0.888086</td>\n",
              "      <td>0.894456</td>\n",
              "    </tr>\n",
              "    <tr>\n",
              "      <th>2</th>\n",
              "      <td>Naive Bayes</td>\n",
              "      <td>0.948197</td>\n",
              "      <td>0.947761</td>\n",
              "      <td>0.947963</td>\n",
              "      <td>0.947761</td>\n",
              "    </tr>\n",
              "    <tr>\n",
              "      <th>3</th>\n",
              "      <td>Decision Tree</td>\n",
              "      <td>0.995730</td>\n",
              "      <td>0.995736</td>\n",
              "      <td>0.995724</td>\n",
              "      <td>0.995736</td>\n",
              "    </tr>\n",
              "    <tr>\n",
              "      <th>4</th>\n",
              "      <td>Majority Voting</td>\n",
              "      <td>0.974146</td>\n",
              "      <td>0.974414</td>\n",
              "      <td>0.974208</td>\n",
              "      <td>0.974414</td>\n",
              "    </tr>\n",
              "    <tr>\n",
              "      <th>5</th>\n",
              "      <td>Random Forest</td>\n",
              "      <td>0.996797</td>\n",
              "      <td>0.996802</td>\n",
              "      <td>0.996798</td>\n",
              "      <td>0.996802</td>\n",
              "    </tr>\n",
              "    <tr>\n",
              "      <th>6</th>\n",
              "      <td>Gradient Boosting</td>\n",
              "      <td>0.830000</td>\n",
              "      <td>0.830000</td>\n",
              "      <td>0.830000</td>\n",
              "      <td>0.996802</td>\n",
              "    </tr>\n",
              "    <tr>\n",
              "      <th>7</th>\n",
              "      <td>ANN</td>\n",
              "      <td>0.951904</td>\n",
              "      <td>0.952026</td>\n",
              "      <td>0.951963</td>\n",
              "      <td>0.952026</td>\n",
              "    </tr>\n",
              "  </tbody>\n",
              "</table>\n",
              "</div>\n",
              "      <button class=\"colab-df-convert\" onclick=\"convertToInteractive('df-8a161493-fb5b-4fab-9a1e-06c66a3a75ce')\"\n",
              "              title=\"Convert this dataframe to an interactive table.\"\n",
              "              style=\"display:none;\">\n",
              "        \n",
              "  <svg xmlns=\"http://www.w3.org/2000/svg\" height=\"24px\"viewBox=\"0 0 24 24\"\n",
              "       width=\"24px\">\n",
              "    <path d=\"M0 0h24v24H0V0z\" fill=\"none\"/>\n",
              "    <path d=\"M18.56 5.44l.94 2.06.94-2.06 2.06-.94-2.06-.94-.94-2.06-.94 2.06-2.06.94zm-11 1L8.5 8.5l.94-2.06 2.06-.94-2.06-.94L8.5 2.5l-.94 2.06-2.06.94zm10 10l.94 2.06.94-2.06 2.06-.94-2.06-.94-.94-2.06-.94 2.06-2.06.94z\"/><path d=\"M17.41 7.96l-1.37-1.37c-.4-.4-.92-.59-1.43-.59-.52 0-1.04.2-1.43.59L10.3 9.45l-7.72 7.72c-.78.78-.78 2.05 0 2.83L4 21.41c.39.39.9.59 1.41.59.51 0 1.02-.2 1.41-.59l7.78-7.78 2.81-2.81c.8-.78.8-2.07 0-2.86zM5.41 20L4 18.59l7.72-7.72 1.47 1.35L5.41 20z\"/>\n",
              "  </svg>\n",
              "      </button>\n",
              "      \n",
              "  <style>\n",
              "    .colab-df-container {\n",
              "      display:flex;\n",
              "      flex-wrap:wrap;\n",
              "      gap: 12px;\n",
              "    }\n",
              "\n",
              "    .colab-df-convert {\n",
              "      background-color: #E8F0FE;\n",
              "      border: none;\n",
              "      border-radius: 50%;\n",
              "      cursor: pointer;\n",
              "      display: none;\n",
              "      fill: #1967D2;\n",
              "      height: 32px;\n",
              "      padding: 0 0 0 0;\n",
              "      width: 32px;\n",
              "    }\n",
              "\n",
              "    .colab-df-convert:hover {\n",
              "      background-color: #E2EBFA;\n",
              "      box-shadow: 0px 1px 2px rgba(60, 64, 67, 0.3), 0px 1px 3px 1px rgba(60, 64, 67, 0.15);\n",
              "      fill: #174EA6;\n",
              "    }\n",
              "\n",
              "    [theme=dark] .colab-df-convert {\n",
              "      background-color: #3B4455;\n",
              "      fill: #D2E3FC;\n",
              "    }\n",
              "\n",
              "    [theme=dark] .colab-df-convert:hover {\n",
              "      background-color: #434B5C;\n",
              "      box-shadow: 0px 1px 3px 1px rgba(0, 0, 0, 0.15);\n",
              "      filter: drop-shadow(0px 1px 2px rgba(0, 0, 0, 0.3));\n",
              "      fill: #FFFFFF;\n",
              "    }\n",
              "  </style>\n",
              "\n",
              "      <script>\n",
              "        const buttonEl =\n",
              "          document.querySelector('#df-8a161493-fb5b-4fab-9a1e-06c66a3a75ce button.colab-df-convert');\n",
              "        buttonEl.style.display =\n",
              "          google.colab.kernel.accessAllowed ? 'block' : 'none';\n",
              "\n",
              "        async function convertToInteractive(key) {\n",
              "          const element = document.querySelector('#df-8a161493-fb5b-4fab-9a1e-06c66a3a75ce');\n",
              "          const dataTable =\n",
              "            await google.colab.kernel.invokeFunction('convertToInteractive',\n",
              "                                                     [key], {});\n",
              "          if (!dataTable) return;\n",
              "\n",
              "          const docLinkHtml = 'Like what you see? Visit the ' +\n",
              "            '<a target=\"_blank\" href=https://colab.research.google.com/notebooks/data_table.ipynb>data table notebook</a>'\n",
              "            + ' to learn more about interactive tables.';\n",
              "          element.innerHTML = '';\n",
              "          dataTable['output_type'] = 'display_data';\n",
              "          await google.colab.output.renderOutput(dataTable, element);\n",
              "          const docLink = document.createElement('div');\n",
              "          docLink.innerHTML = docLinkHtml;\n",
              "          element.appendChild(docLink);\n",
              "        }\n",
              "      </script>\n",
              "    </div>\n",
              "  </div>\n",
              "  "
            ],
            "text/plain": [
              "                    Models  Precision    recall  f1-score  accuracy_score\n",
              "0      Logistic Regression   0.958719  0.959488  0.958821        0.959488\n",
              "1  Logistic Regression PCA   0.887096  0.894456  0.888086        0.894456\n",
              "2              Naive Bayes   0.948197  0.947761  0.947963        0.947761\n",
              "3            Decision Tree   0.995730  0.995736  0.995724        0.995736\n",
              "4          Majority Voting   0.974146  0.974414  0.974208        0.974414\n",
              "5            Random Forest   0.996797  0.996802  0.996798        0.996802\n",
              "6        Gradient Boosting   0.830000  0.830000  0.830000        0.996802\n",
              "7                      ANN   0.951904  0.952026  0.951963        0.952026"
            ]
          },
          "metadata": {}
        }
      ]
    },
    {
      "cell_type": "markdown",
      "source": [
        "#Inference:\n",
        "\n",
        "*   Bagging and stacking ensemble is not needed becuase we already got 99% accuracy in Boosting. Hence, we don't need bagging and stacking method to further  improving the accuracy.\n",
        "\n",
        "\n",
        "*   From the above comparison Gradient Boosting model is more reliable than the other models.\n",
        "\n",
        "\n"
      ],
      "metadata": {
        "id": "62Yh1LYrpXDP"
      },
      "id": "62Yh1LYrpXDP"
    },
    {
      "cell_type": "code",
      "source": [],
      "metadata": {
        "id": "NlCRVKd-ya80"
      },
      "id": "NlCRVKd-ya80",
      "execution_count": null,
      "outputs": []
    }
  ],
  "metadata": {
    "kernelspec": {
      "display_name": "Python 3",
      "language": "python",
      "name": "python3"
    },
    "language_info": {
      "codemirror_mode": {
        "name": "ipython",
        "version": 3
      },
      "file_extension": ".py",
      "mimetype": "text/x-python",
      "name": "python",
      "nbconvert_exporter": "python",
      "pygments_lexer": "ipython3",
      "version": "3.7.10"
    },
    "papermill": {
      "default_parameters": {},
      "duration": 56.667339,
      "end_time": "2021-10-22T19:46:40.321215",
      "environment_variables": {},
      "exception": null,
      "input_path": "__notebook__.ipynb",
      "output_path": "__notebook__.ipynb",
      "parameters": {},
      "start_time": "2021-10-22T19:45:43.653876",
      "version": "2.3.3"
    },
    "colab": {
      "name": "Hazardous_Nature_of_Asteroids.ipynb",
      "provenance": [],
      "collapsed_sections": []
    },
    "accelerator": "GPU"
  },
  "nbformat": 4,
  "nbformat_minor": 5
}